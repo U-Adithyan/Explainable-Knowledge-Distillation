{
 "cells": [
  {
   "cell_type": "code",
   "execution_count": 1,
   "id": "130c35fa",
   "metadata": {
    "execution": {
     "iopub.execute_input": "2024-05-02T10:30:25.393460Z",
     "iopub.status.busy": "2024-05-02T10:30:25.393123Z",
     "iopub.status.idle": "2024-05-02T10:30:26.092699Z",
     "shell.execute_reply": "2024-05-02T10:30:26.091810Z"
    },
    "papermill": {
     "duration": 0.708786,
     "end_time": "2024-05-02T10:30:26.094954",
     "exception": false,
     "start_time": "2024-05-02T10:30:25.386168",
     "status": "completed"
    },
    "tags": []
   },
   "outputs": [],
   "source": [
    "import os\n",
    "import glob\n",
    "import pandas as pd\n",
    "import numpy as np\n",
    "from tqdm import tqdm\n",
    "import pickle\n",
    "from PIL import Image\n",
    "\n",
    "\n",
    "import xml.etree.ElementTree as ET"
   ]
  },
  {
   "cell_type": "code",
   "execution_count": 2,
   "id": "360009d1",
   "metadata": {
    "execution": {
     "iopub.execute_input": "2024-05-02T10:30:26.106925Z",
     "iopub.status.busy": "2024-05-02T10:30:26.106161Z",
     "iopub.status.idle": "2024-05-02T10:30:26.110102Z",
     "shell.execute_reply": "2024-05-02T10:30:26.109266Z"
    },
    "papermill": {
     "duration": 0.011479,
     "end_time": "2024-05-02T10:30:26.111965",
     "exception": false,
     "start_time": "2024-05-02T10:30:26.100486",
     "status": "completed"
    },
    "tags": []
   },
   "outputs": [],
   "source": [
    "MAIN_DIR = '/kaggle/input/VOC2012'"
   ]
  },
  {
   "cell_type": "code",
   "execution_count": 3,
   "id": "3f50d907",
   "metadata": {
    "_cell_guid": "b1076dfc-b9ad-4769-8c92-a6c4dae69d19",
    "_uuid": "8f2839f25d086af736a60e9eeb907d3b93b6e0e5",
    "execution": {
     "iopub.execute_input": "2024-05-02T10:30:26.122907Z",
     "iopub.status.busy": "2024-05-02T10:30:26.122651Z",
     "iopub.status.idle": "2024-05-02T10:30:26.131921Z",
     "shell.execute_reply": "2024-05-02T10:30:26.131253Z"
    },
    "papermill": {
     "duration": 0.016814,
     "end_time": "2024-05-02T10:30:26.133831",
     "exception": false,
     "start_time": "2024-05-02T10:30:26.117017",
     "status": "completed"
    },
    "tags": []
   },
   "outputs": [],
   "source": [
    "def xml_to_csv(path = os.path.join(MAIN_DIR,'Annotations')):\n",
    "    xml_list = []\n",
    "    \n",
    "    for xml_file in tqdm(glob.glob(os.path.join(path, '2007*.xml'))):\n",
    "        tree = ET.parse(xml_file)\n",
    "        root = tree.getroot()\n",
    "        \n",
    "        for obj in root.findall('object'):\n",
    "            bbx = obj.find('bndbox')\n",
    "            xmin = int(bbx.find('xmin').text)\n",
    "            ymin = int(bbx.find('ymin').text)\n",
    "            xmax = int(bbx.find('xmax').text)\n",
    "            ymax = int(bbx.find('ymax').text)\n",
    "            label = obj.find('name').text\n",
    "\n",
    "            # it would be better to use column name instead of index\n",
    "            value = (root.find('filename').text,\n",
    "                     int(root.find('size').find('depth').text), #0 , 2\n",
    "                     int(root.find('size').find('width').text), #1 , 0\n",
    "                     int(root.find('size').find('height').text), #2 , 1\n",
    "                     label,\n",
    "                     xmin,\n",
    "                     ymin,\n",
    "                     xmax,\n",
    "                     ymax\n",
    "                     )\n",
    "            xml_list.append(value)\n",
    "            \n",
    "    column_name = ['filename', 'channels', 'width', 'height',\n",
    "                   'class', 'xmin', 'ymin', 'xmax', 'ymax']\n",
    "    \n",
    "    xml_df = pd.DataFrame(xml_list, columns=column_name)\n",
    "    \n",
    "    return xml_df"
   ]
  },
  {
   "cell_type": "code",
   "execution_count": 4,
   "id": "328b0918",
   "metadata": {
    "execution": {
     "iopub.execute_input": "2024-05-02T10:30:26.144907Z",
     "iopub.status.busy": "2024-05-02T10:30:26.144332Z",
     "iopub.status.idle": "2024-05-02T10:30:30.676593Z",
     "shell.execute_reply": "2024-05-02T10:30:30.675708Z"
    },
    "papermill": {
     "duration": 4.539978,
     "end_time": "2024-05-02T10:30:30.678755",
     "exception": false,
     "start_time": "2024-05-02T10:30:26.138777",
     "status": "completed"
    },
    "tags": []
   },
   "outputs": [
    {
     "name": "stderr",
     "output_type": "stream",
     "text": [
      "100%|██████████| 756/756 [00:04<00:00, 182.49it/s]\n"
     ]
    }
   ],
   "source": [
    "xml_df = xml_to_csv()"
   ]
  },
  {
   "cell_type": "code",
   "execution_count": 5,
   "id": "5f9ee646",
   "metadata": {
    "execution": {
     "iopub.execute_input": "2024-05-02T10:30:30.698737Z",
     "iopub.status.busy": "2024-05-02T10:30:30.698415Z",
     "iopub.status.idle": "2024-05-02T10:30:30.716302Z",
     "shell.execute_reply": "2024-05-02T10:30:30.715584Z"
    },
    "papermill": {
     "duration": 0.029784,
     "end_time": "2024-05-02T10:30:30.718198",
     "exception": false,
     "start_time": "2024-05-02T10:30:30.688414",
     "status": "completed"
    },
    "tags": []
   },
   "outputs": [],
   "source": [
    "xml_df.to_csv('data_descriptor.csv', index = False)"
   ]
  },
  {
   "cell_type": "code",
   "execution_count": 6,
   "id": "d10afa7c",
   "metadata": {
    "execution": {
     "iopub.execute_input": "2024-05-02T10:30:30.735074Z",
     "iopub.status.busy": "2024-05-02T10:30:30.734774Z",
     "iopub.status.idle": "2024-05-02T10:30:30.755920Z",
     "shell.execute_reply": "2024-05-02T10:30:30.755066Z"
    },
    "papermill": {
     "duration": 0.031617,
     "end_time": "2024-05-02T10:30:30.757755",
     "exception": false,
     "start_time": "2024-05-02T10:30:30.726138",
     "status": "completed"
    },
    "tags": []
   },
   "outputs": [
    {
     "data": {
      "text/html": [
       "<div>\n",
       "<style scoped>\n",
       "    .dataframe tbody tr th:only-of-type {\n",
       "        vertical-align: middle;\n",
       "    }\n",
       "\n",
       "    .dataframe tbody tr th {\n",
       "        vertical-align: top;\n",
       "    }\n",
       "\n",
       "    .dataframe thead th {\n",
       "        text-align: right;\n",
       "    }\n",
       "</style>\n",
       "<table border=\"1\" class=\"dataframe\">\n",
       "  <thead>\n",
       "    <tr style=\"text-align: right;\">\n",
       "      <th></th>\n",
       "      <th>filename</th>\n",
       "      <th>channels</th>\n",
       "      <th>width</th>\n",
       "      <th>height</th>\n",
       "      <th>class</th>\n",
       "      <th>xmin</th>\n",
       "      <th>ymin</th>\n",
       "      <th>xmax</th>\n",
       "      <th>ymax</th>\n",
       "    </tr>\n",
       "  </thead>\n",
       "  <tbody>\n",
       "    <tr>\n",
       "      <th>0</th>\n",
       "      <td>2007_005144.jpg</td>\n",
       "      <td>3</td>\n",
       "      <td>332</td>\n",
       "      <td>500</td>\n",
       "      <td>person</td>\n",
       "      <td>1</td>\n",
       "      <td>12</td>\n",
       "      <td>331</td>\n",
       "      <td>500</td>\n",
       "    </tr>\n",
       "    <tr>\n",
       "      <th>1</th>\n",
       "      <td>2007_005989.jpg</td>\n",
       "      <td>3</td>\n",
       "      <td>500</td>\n",
       "      <td>375</td>\n",
       "      <td>motorbike</td>\n",
       "      <td>140</td>\n",
       "      <td>130</td>\n",
       "      <td>408</td>\n",
       "      <td>273</td>\n",
       "    </tr>\n",
       "    <tr>\n",
       "      <th>2</th>\n",
       "      <td>2007_005989.jpg</td>\n",
       "      <td>3</td>\n",
       "      <td>500</td>\n",
       "      <td>375</td>\n",
       "      <td>person</td>\n",
       "      <td>213</td>\n",
       "      <td>96</td>\n",
       "      <td>355</td>\n",
       "      <td>260</td>\n",
       "    </tr>\n",
       "    <tr>\n",
       "      <th>3</th>\n",
       "      <td>2007_002107.jpg</td>\n",
       "      <td>3</td>\n",
       "      <td>500</td>\n",
       "      <td>375</td>\n",
       "      <td>aeroplane</td>\n",
       "      <td>408</td>\n",
       "      <td>243</td>\n",
       "      <td>449</td>\n",
       "      <td>257</td>\n",
       "    </tr>\n",
       "    <tr>\n",
       "      <th>4</th>\n",
       "      <td>2007_000822.jpg</td>\n",
       "      <td>3</td>\n",
       "      <td>500</td>\n",
       "      <td>374</td>\n",
       "      <td>motorbike</td>\n",
       "      <td>98</td>\n",
       "      <td>165</td>\n",
       "      <td>230</td>\n",
       "      <td>346</td>\n",
       "    </tr>\n",
       "    <tr>\n",
       "      <th>...</th>\n",
       "      <td>...</td>\n",
       "      <td>...</td>\n",
       "      <td>...</td>\n",
       "      <td>...</td>\n",
       "      <td>...</td>\n",
       "      <td>...</td>\n",
       "      <td>...</td>\n",
       "      <td>...</td>\n",
       "      <td>...</td>\n",
       "    </tr>\n",
       "    <tr>\n",
       "      <th>1989</th>\n",
       "      <td>2007_001583.jpg</td>\n",
       "      <td>3</td>\n",
       "      <td>500</td>\n",
       "      <td>375</td>\n",
       "      <td>person</td>\n",
       "      <td>70</td>\n",
       "      <td>16</td>\n",
       "      <td>232</td>\n",
       "      <td>375</td>\n",
       "    </tr>\n",
       "    <tr>\n",
       "      <th>1990</th>\n",
       "      <td>2007_006400.jpg</td>\n",
       "      <td>3</td>\n",
       "      <td>500</td>\n",
       "      <td>335</td>\n",
       "      <td>train</td>\n",
       "      <td>433</td>\n",
       "      <td>80</td>\n",
       "      <td>500</td>\n",
       "      <td>256</td>\n",
       "    </tr>\n",
       "    <tr>\n",
       "      <th>1991</th>\n",
       "      <td>2007_006400.jpg</td>\n",
       "      <td>3</td>\n",
       "      <td>500</td>\n",
       "      <td>335</td>\n",
       "      <td>train</td>\n",
       "      <td>189</td>\n",
       "      <td>101</td>\n",
       "      <td>440</td>\n",
       "      <td>235</td>\n",
       "    </tr>\n",
       "    <tr>\n",
       "      <th>1992</th>\n",
       "      <td>2007_006400.jpg</td>\n",
       "      <td>3</td>\n",
       "      <td>500</td>\n",
       "      <td>335</td>\n",
       "      <td>train</td>\n",
       "      <td>40</td>\n",
       "      <td>125</td>\n",
       "      <td>199</td>\n",
       "      <td>203</td>\n",
       "    </tr>\n",
       "    <tr>\n",
       "      <th>1993</th>\n",
       "      <td>2007_004644.jpg</td>\n",
       "      <td>3</td>\n",
       "      <td>500</td>\n",
       "      <td>333</td>\n",
       "      <td>dog</td>\n",
       "      <td>1</td>\n",
       "      <td>26</td>\n",
       "      <td>186</td>\n",
       "      <td>260</td>\n",
       "    </tr>\n",
       "  </tbody>\n",
       "</table>\n",
       "<p>1994 rows × 9 columns</p>\n",
       "</div>"
      ],
      "text/plain": [
       "             filename  channels  width  height      class  xmin  ymin  xmax  \\\n",
       "0     2007_005144.jpg         3    332     500     person     1    12   331   \n",
       "1     2007_005989.jpg         3    500     375  motorbike   140   130   408   \n",
       "2     2007_005989.jpg         3    500     375     person   213    96   355   \n",
       "3     2007_002107.jpg         3    500     375  aeroplane   408   243   449   \n",
       "4     2007_000822.jpg         3    500     374  motorbike    98   165   230   \n",
       "...               ...       ...    ...     ...        ...   ...   ...   ...   \n",
       "1989  2007_001583.jpg         3    500     375     person    70    16   232   \n",
       "1990  2007_006400.jpg         3    500     335      train   433    80   500   \n",
       "1991  2007_006400.jpg         3    500     335      train   189   101   440   \n",
       "1992  2007_006400.jpg         3    500     335      train    40   125   199   \n",
       "1993  2007_004644.jpg         3    500     333        dog     1    26   186   \n",
       "\n",
       "      ymax  \n",
       "0      500  \n",
       "1      273  \n",
       "2      260  \n",
       "3      257  \n",
       "4      346  \n",
       "...    ...  \n",
       "1989   375  \n",
       "1990   256  \n",
       "1991   235  \n",
       "1992   203  \n",
       "1993   260  \n",
       "\n",
       "[1994 rows x 9 columns]"
      ]
     },
     "execution_count": 6,
     "metadata": {},
     "output_type": "execute_result"
    }
   ],
   "source": [
    "xml_df"
   ]
  },
  {
   "cell_type": "code",
   "execution_count": 7,
   "id": "e5dab76b",
   "metadata": {
    "execution": {
     "iopub.execute_input": "2024-05-02T10:30:30.774971Z",
     "iopub.status.busy": "2024-05-02T10:30:30.774704Z",
     "iopub.status.idle": "2024-05-02T10:30:30.779408Z",
     "shell.execute_reply": "2024-05-02T10:30:30.778660Z"
    },
    "papermill": {
     "duration": 0.015534,
     "end_time": "2024-05-02T10:30:30.781403",
     "exception": false,
     "start_time": "2024-05-02T10:30:30.765869",
     "status": "completed"
    },
    "tags": []
   },
   "outputs": [],
   "source": [
    "classes = [\"aeroplane\", \"bicycle\", \"bird\", \"boat\", \"bottle\", \"bus\", \"car\", \"cat\", \"chair\", \"cow\", \n",
    "           \"diningtable\", \"dog\", \"horse\", \"motorbike\", \"person\", \"pottedplant\", \"sheep\", \"sofa\",\n",
    "           \"train\", \"tvmonitor\"]\n",
    "num_classes = len(classes)"
   ]
  },
  {
   "cell_type": "markdown",
   "id": "24af1553",
   "metadata": {
    "papermill": {
     "duration": 0.008079,
     "end_time": "2024-05-02T10:30:30.797653",
     "exception": false,
     "start_time": "2024-05-02T10:30:30.789574",
     "status": "completed"
    },
    "tags": []
   },
   "source": [
    "## Teacher Training"
   ]
  },
  {
   "cell_type": "code",
   "execution_count": 8,
   "id": "2c8fd69a",
   "metadata": {
    "execution": {
     "iopub.execute_input": "2024-05-02T10:30:30.815385Z",
     "iopub.status.busy": "2024-05-02T10:30:30.815140Z",
     "iopub.status.idle": "2024-05-02T10:30:37.867958Z",
     "shell.execute_reply": "2024-05-02T10:30:37.866982Z"
    },
    "papermill": {
     "duration": 7.064293,
     "end_time": "2024-05-02T10:30:37.870394",
     "exception": false,
     "start_time": "2024-05-02T10:30:30.806101",
     "status": "completed"
    },
    "tags": []
   },
   "outputs": [],
   "source": [
    "import torch\n",
    "from torch.utils.data import Dataset, DataLoader\n",
    "from sklearn.preprocessing import LabelEncoder\n",
    "import torchvision.transforms as transforms\n",
    "import torch.nn as nn\n",
    "import torch.optim as optim\n",
    "import torchvision.models as models"
   ]
  },
  {
   "cell_type": "code",
   "execution_count": 9,
   "id": "cc35ea38",
   "metadata": {
    "execution": {
     "iopub.execute_input": "2024-05-02T10:30:37.888905Z",
     "iopub.status.busy": "2024-05-02T10:30:37.888449Z",
     "iopub.status.idle": "2024-05-02T10:30:37.895494Z",
     "shell.execute_reply": "2024-05-02T10:30:37.894513Z"
    },
    "papermill": {
     "duration": 0.018327,
     "end_time": "2024-05-02T10:30:37.897439",
     "exception": false,
     "start_time": "2024-05-02T10:30:37.879112",
     "status": "completed"
    },
    "tags": []
   },
   "outputs": [],
   "source": [
    "class CustomDataset(Dataset):\n",
    "    def __init__(self, dataframe, transform=None):\n",
    "        self.dataframe = dataframe\n",
    "        self.transform = transform\n",
    "\n",
    "    def __len__(self):\n",
    "        return len(self.dataframe)\n",
    "\n",
    "    def __getitem__(self, idx):\n",
    "        img_path = os.path.join(MAIN_DIR,'JPEGImages',self.dataframe.iloc[idx]['filename'])\n",
    "        label = self.dataframe.iloc[idx]['class']\n",
    "\n",
    "        img = Image.open(img_path).convert('RGB')\n",
    "\n",
    "        if self.transform:\n",
    "            img = self.transform(img)\n",
    "\n",
    "        return img, label"
   ]
  },
  {
   "cell_type": "code",
   "execution_count": 10,
   "id": "d79fb802",
   "metadata": {
    "execution": {
     "iopub.execute_input": "2024-05-02T10:30:37.916017Z",
     "iopub.status.busy": "2024-05-02T10:30:37.915748Z",
     "iopub.status.idle": "2024-05-02T10:30:37.921967Z",
     "shell.execute_reply": "2024-05-02T10:30:37.920944Z"
    },
    "papermill": {
     "duration": 0.016966,
     "end_time": "2024-05-02T10:30:37.923873",
     "exception": false,
     "start_time": "2024-05-02T10:30:37.906907",
     "status": "completed"
    },
    "tags": []
   },
   "outputs": [],
   "source": [
    "label_encoder = LabelEncoder().fit(xml_df['class'])\n",
    "xml_df['class'] = label_encoder.transform(xml_df['class'])"
   ]
  },
  {
   "cell_type": "code",
   "execution_count": 11,
   "id": "1cd6674b",
   "metadata": {
    "execution": {
     "iopub.execute_input": "2024-05-02T10:30:37.941406Z",
     "iopub.status.busy": "2024-05-02T10:30:37.941163Z",
     "iopub.status.idle": "2024-05-02T10:30:37.946650Z",
     "shell.execute_reply": "2024-05-02T10:30:37.945800Z"
    },
    "papermill": {
     "duration": 0.016465,
     "end_time": "2024-05-02T10:30:37.948575",
     "exception": false,
     "start_time": "2024-05-02T10:30:37.932110",
     "status": "completed"
    },
    "tags": []
   },
   "outputs": [],
   "source": [
    "transform = transforms.Compose([\n",
    "    transforms.Resize((224, 224)),\n",
    "    transforms.ToTensor(),\n",
    "    transforms.Normalize(mean=[0.485, 0.456, 0.406], std=[0.229, 0.224, 0.225]),  # Assuming using ImageNet normalization\n",
    "])\n",
    "\n",
    "dataset = CustomDataset(xml_df, transform = transform)\n",
    "dataloader = DataLoader(dataset, batch_size = 64, shuffle=True, num_workers=4)\n"
   ]
  },
  {
   "cell_type": "code",
   "execution_count": 12,
   "id": "113fcc9f",
   "metadata": {
    "execution": {
     "iopub.execute_input": "2024-05-02T10:30:37.966273Z",
     "iopub.status.busy": "2024-05-02T10:30:37.965909Z",
     "iopub.status.idle": "2024-05-02T10:30:38.365049Z",
     "shell.execute_reply": "2024-05-02T10:30:38.364092Z"
    },
    "papermill": {
     "duration": 0.410268,
     "end_time": "2024-05-02T10:30:38.367051",
     "exception": false,
     "start_time": "2024-05-02T10:30:37.956783",
     "status": "completed"
    },
    "tags": []
   },
   "outputs": [
    {
     "name": "stderr",
     "output_type": "stream",
     "text": [
      "/opt/conda/lib/python3.10/site-packages/torchvision/models/_utils.py:208: UserWarning: The parameter 'pretrained' is deprecated since 0.13 and may be removed in the future, please use 'weights' instead.\n",
      "  warnings.warn(\n",
      "/opt/conda/lib/python3.10/site-packages/torchvision/models/_utils.py:223: UserWarning: Arguments other than a weight enum or `None` for 'weights' are deprecated since 0.13 and may be removed in the future. The current behavior is equivalent to passing `weights=MobileNet_V2_Weights.IMAGENET1K_V1`. You can also use `weights=MobileNet_V2_Weights.DEFAULT` to get the most up-to-date weights.\n",
      "  warnings.warn(msg)\n",
      "Downloading: \"https://download.pytorch.org/models/mobilenet_v2-b0353104.pth\" to /root/.cache/torch/hub/checkpoints/mobilenet_v2-b0353104.pth\n",
      "100%|██████████| 13.6M/13.6M [00:00<00:00, 98.1MB/s]\n"
     ]
    }
   ],
   "source": [
    "mobilenet = models.mobilenet_v2(pretrained=True)\n",
    "mobilenet.classifier[1] = torch.nn.Linear(mobilenet.classifier[1].in_features, num_classes)\n",
    "\n",
    "class ModifiedMobileNetV2(nn.Module):\n",
    "    def __init__(self, mobilenet):\n",
    "        super(ModifiedMobileNetV2, self).__init__()\n",
    "        self.mobilenet = mobilenet\n",
    "        self.softmax = nn.Softmax(dim=1)\n",
    "\n",
    "    def forward(self, x):\n",
    "        x = self.mobilenet(x)\n",
    "        x = self.softmax(x)\n",
    "        return x\n",
    "\n",
    "mobilenet = ModifiedMobileNetV2(mobilenet)"
   ]
  },
  {
   "cell_type": "code",
   "execution_count": 13,
   "id": "65ce50e4",
   "metadata": {
    "execution": {
     "iopub.execute_input": "2024-05-02T10:30:38.386557Z",
     "iopub.status.busy": "2024-05-02T10:30:38.386266Z",
     "iopub.status.idle": "2024-05-02T10:30:38.391876Z",
     "shell.execute_reply": "2024-05-02T10:30:38.391056Z"
    },
    "papermill": {
     "duration": 0.01712,
     "end_time": "2024-05-02T10:30:38.393753",
     "exception": false,
     "start_time": "2024-05-02T10:30:38.376633",
     "status": "completed"
    },
    "tags": []
   },
   "outputs": [],
   "source": [
    "criterion = nn.CrossEntropyLoss()\n",
    "optimizer = optim.Adam(mobilenet.parameters(), lr=0.001)"
   ]
  },
  {
   "cell_type": "code",
   "execution_count": 14,
   "id": "51a772d5",
   "metadata": {
    "execution": {
     "iopub.execute_input": "2024-05-02T10:30:38.412501Z",
     "iopub.status.busy": "2024-05-02T10:30:38.412240Z",
     "iopub.status.idle": "2024-05-02T11:31:20.305678Z",
     "shell.execute_reply": "2024-05-02T11:31:20.304599Z"
    },
    "papermill": {
     "duration": 3641.960241,
     "end_time": "2024-05-02T11:31:20.362938",
     "exception": false,
     "start_time": "2024-05-02T10:30:38.402697",
     "status": "completed"
    },
    "tags": []
   },
   "outputs": [
    {
     "name": "stdout",
     "output_type": "stream",
     "text": [
      "Epoch [1/15], Loss: 2.6699\n",
      "Epoch [2/15], Loss: 2.6243\n",
      "Epoch [3/15], Loss: 2.6095\n",
      "Epoch [4/15], Loss: 2.6044\n",
      "Epoch [5/15], Loss: 2.5841\n",
      "Epoch [6/15], Loss: 2.5711\n",
      "Epoch [7/15], Loss: 2.5661\n",
      "Epoch [8/15], Loss: 2.5567\n",
      "Epoch [9/15], Loss: 2.5526\n",
      "Epoch [10/15], Loss: 2.5403\n",
      "Epoch [11/15], Loss: 2.5270\n",
      "Epoch [12/15], Loss: 2.5782\n",
      "Epoch [13/15], Loss: 2.5503\n",
      "Epoch [14/15], Loss: 2.5405\n",
      "Epoch [15/15], Loss: 2.5344\n"
     ]
    }
   ],
   "source": [
    "def train_model(model, criterion, optimizer, num_epochs = 10):\n",
    "    for epoch in range(num_epochs):\n",
    "        model.train()\n",
    "        running_loss = 0.0\n",
    "        for inputs, labels in dataloader:\n",
    "            optimizer.zero_grad()\n",
    "            outputs = model(inputs)\n",
    "            loss = criterion(outputs, labels)\n",
    "            loss.backward()\n",
    "            optimizer.step()\n",
    "            running_loss += loss.item() * inputs.size(0)\n",
    "        epoch_loss = running_loss / len(dataloader.dataset)\n",
    "        print('Epoch [{}/{}], Loss: {:.4f}'.format(epoch + 1, num_epochs, epoch_loss))\n",
    "        with open(f'mobilenet_vanilla{epoch+1}.pkl', 'wb') as file:\n",
    "            pickle.dump(mobilenet, file)\n",
    "\n",
    "train_model(mobilenet, criterion, optimizer, num_epochs = 15)"
   ]
  },
  {
   "cell_type": "code",
   "execution_count": 15,
   "id": "f0a1daa2",
   "metadata": {
    "execution": {
     "iopub.execute_input": "2024-05-02T11:31:20.384440Z",
     "iopub.status.busy": "2024-05-02T11:31:20.384095Z",
     "iopub.status.idle": "2024-05-02T11:31:20.427642Z",
     "shell.execute_reply": "2024-05-02T11:31:20.426812Z"
    },
    "papermill": {
     "duration": 0.057015,
     "end_time": "2024-05-02T11:31:20.429699",
     "exception": false,
     "start_time": "2024-05-02T11:31:20.372684",
     "status": "completed"
    },
    "tags": []
   },
   "outputs": [],
   "source": [
    "with open('mobilenet_vanilla.pkl', 'wb') as file:\n",
    "    pickle.dump(mobilenet, file)"
   ]
  }
 ],
 "metadata": {
  "kaggle": {
   "accelerator": "nvidiaTeslaT4",
   "dataSources": [
    {
     "datasetId": 35388,
     "sourceId": 47853,
     "sourceType": "datasetVersion"
    }
   ],
   "dockerImageVersionId": 30699,
   "isGpuEnabled": true,
   "isInternetEnabled": true,
   "language": "python",
   "sourceType": "notebook"
  },
  "kernelspec": {
   "display_name": "Python 3",
   "language": "python",
   "name": "python3"
  },
  "language_info": {
   "codemirror_mode": {
    "name": "ipython",
    "version": 3
   },
   "file_extension": ".py",
   "mimetype": "text/x-python",
   "name": "python",
   "nbconvert_exporter": "python",
   "pygments_lexer": "ipython3",
   "version": "3.10.13"
  },
  "papermill": {
   "default_parameters": {},
   "duration": 3660.166532,
   "end_time": "2024-05-02T11:31:22.835993",
   "environment_variables": {},
   "exception": null,
   "input_path": "__notebook__.ipynb",
   "output_path": "__notebook__.ipynb",
   "parameters": {},
   "start_time": "2024-05-02T10:30:22.669461",
   "version": "2.5.0"
  }
 },
 "nbformat": 4,
 "nbformat_minor": 5
}
