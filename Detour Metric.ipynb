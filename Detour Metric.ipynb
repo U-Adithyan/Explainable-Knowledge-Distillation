{
 "cells": [
  {
   "cell_type": "code",
   "execution_count": 1,
   "id": "77792274",
   "metadata": {
    "execution": {
     "iopub.execute_input": "2024-05-03T13:32:55.901029Z",
     "iopub.status.busy": "2024-05-03T13:32:55.900407Z",
     "iopub.status.idle": "2024-05-03T13:33:02.574373Z",
     "shell.execute_reply": "2024-05-03T13:33:02.573492Z"
    },
    "papermill": {
     "duration": 6.683176,
     "end_time": "2024-05-03T13:33:02.576782",
     "exception": false,
     "start_time": "2024-05-03T13:32:55.893606",
     "status": "completed"
    },
    "tags": []
   },
   "outputs": [],
   "source": [
    "import os\n",
    "import cv2\n",
    "import numpy as np\n",
    "import pickle\n",
    "from PIL import Image\n",
    "import matplotlib.pyplot as plt\n",
    "\n",
    "import torch\n",
    "import torch.nn as nn\n",
    "import torchvision.models as models\n",
    "from torchvision import transforms\n",
    "import torch.nn.functional as F\n",
    "\n",
    "import gc\n",
    "\n",
    "import warnings\n",
    "warnings.filterwarnings(\"ignore\")"
   ]
  },
  {
   "cell_type": "code",
   "execution_count": 2,
   "id": "7d7de49b",
   "metadata": {
    "execution": {
     "iopub.execute_input": "2024-05-03T13:33:02.588812Z",
     "iopub.status.busy": "2024-05-03T13:33:02.587437Z",
     "iopub.status.idle": "2024-05-03T13:33:02.593939Z",
     "shell.execute_reply": "2024-05-03T13:33:02.592900Z"
    },
    "papermill": {
     "duration": 0.014616,
     "end_time": "2024-05-03T13:33:02.596319",
     "exception": false,
     "start_time": "2024-05-03T13:33:02.581703",
     "status": "completed"
    },
    "tags": []
   },
   "outputs": [],
   "source": [
    "def normalize_image(image):\n",
    "    # Convert image to float type\n",
    "    image = image.astype(float)\n",
    "    # Scale pixel values to range [0, 1]\n",
    "    image_min = np.min(image)\n",
    "    image_max = np.max(image)\n",
    "    normalized_image = (image - image_min) / (image_max - image_min)\n",
    "    gc.collect()\n",
    "    return normalized_image"
   ]
  },
  {
   "cell_type": "code",
   "execution_count": 3,
   "id": "1032c179",
   "metadata": {
    "execution": {
     "iopub.execute_input": "2024-05-03T13:33:02.607430Z",
     "iopub.status.busy": "2024-05-03T13:33:02.606690Z",
     "iopub.status.idle": "2024-05-03T13:33:02.612637Z",
     "shell.execute_reply": "2024-05-03T13:33:02.611559Z"
    },
    "papermill": {
     "duration": 0.013918,
     "end_time": "2024-05-03T13:33:02.614916",
     "exception": false,
     "start_time": "2024-05-03T13:33:02.600998",
     "status": "completed"
    },
    "tags": []
   },
   "outputs": [],
   "source": [
    "def preprocess_image(image_path):\n",
    "    transform = transforms.Compose([\n",
    "        transforms.Resize((224, 224)),\n",
    "        transforms.ToTensor(),\n",
    "        transforms.Normalize(mean=[0.485, 0.456, 0.406], std=[0.229, 0.224, 0.225]),\n",
    "    ])\n",
    "    image = Image.open(image_path)\n",
    "    image = transform(image).unsqueeze(0)\n",
    "    gc.collect()\n",
    "    return image"
   ]
  },
  {
   "cell_type": "code",
   "execution_count": 4,
   "id": "357f68a1",
   "metadata": {
    "_cell_guid": "b1076dfc-b9ad-4769-8c92-a6c4dae69d19",
    "_uuid": "8f2839f25d086af736a60e9eeb907d3b93b6e0e5",
    "execution": {
     "iopub.execute_input": "2024-05-03T13:33:02.626188Z",
     "iopub.status.busy": "2024-05-03T13:33:02.625739Z",
     "iopub.status.idle": "2024-05-03T13:33:02.635680Z",
     "shell.execute_reply": "2024-05-03T13:33:02.634521Z"
    },
    "papermill": {
     "duration": 0.018501,
     "end_time": "2024-05-03T13:33:02.638069",
     "exception": false,
     "start_time": "2024-05-03T13:33:02.619568",
     "status": "completed"
    },
    "tags": []
   },
   "outputs": [],
   "source": [
    "def extract_foreground_background_masks(segmentation_map, threshold=10):\n",
    "    # Load the segmentation map\n",
    "    seg_map = cv2.imread(segmentation_map, cv2.IMREAD_GRAYSCALE)\n",
    "    seg_map = cv2.resize(seg_map, (224, 224))\n",
    "\n",
    "    # Thresholding to create foreground and background masks\n",
    "    _, foreground_mask = cv2.threshold(seg_map, threshold, 255, cv2.THRESH_BINARY)\n",
    "    background_mask = cv2.bitwise_not(foreground_mask)\n",
    "\n",
    "    # Convert masks to NumPy arrays\n",
    "    foreground_mask_np = np.asarray(foreground_mask)\n",
    "    background_mask_np = np.asarray(background_mask)\n",
    "    \n",
    "    gc.collect()\n",
    "\n",
    "    return normalize_image(foreground_mask_np), normalize_image(background_mask_np)"
   ]
  },
  {
   "cell_type": "code",
   "execution_count": 5,
   "id": "22a6e4e5",
   "metadata": {
    "execution": {
     "iopub.execute_input": "2024-05-03T13:33:02.649776Z",
     "iopub.status.busy": "2024-05-03T13:33:02.648725Z",
     "iopub.status.idle": "2024-05-03T13:33:02.654973Z",
     "shell.execute_reply": "2024-05-03T13:33:02.653910Z"
    },
    "papermill": {
     "duration": 0.014453,
     "end_time": "2024-05-03T13:33:02.657209",
     "exception": false,
     "start_time": "2024-05-03T13:33:02.642756",
     "status": "completed"
    },
    "tags": []
   },
   "outputs": [],
   "source": [
    "class ModifiedResnet(nn.Module):\n",
    "    def __init__(self, resnet):\n",
    "        super(ModifiedResnet, self).__init__()\n",
    "        self.resnet = resnet\n",
    "        self.softmax = nn.Softmax(dim=1)\n",
    "\n",
    "    def forward(self, x):\n",
    "        x = self.resnet(x)\n",
    "        x = self.softmax(x)\n",
    "        return x"
   ]
  },
  {
   "cell_type": "code",
   "execution_count": 6,
   "id": "1fc1dd61",
   "metadata": {
    "execution": {
     "iopub.execute_input": "2024-05-03T13:33:02.668252Z",
     "iopub.status.busy": "2024-05-03T13:33:02.667856Z",
     "iopub.status.idle": "2024-05-03T13:33:02.678162Z",
     "shell.execute_reply": "2024-05-03T13:33:02.677067Z"
    },
    "papermill": {
     "duration": 0.018507,
     "end_time": "2024-05-03T13:33:02.680447",
     "exception": false,
     "start_time": "2024-05-03T13:33:02.661940",
     "status": "completed"
    },
    "tags": []
   },
   "outputs": [],
   "source": [
    "def get_gradcam_map_resnet(model, input_image, target_class=None):\n",
    "    # Set the model to evaluation mode\n",
    "    model.eval()\n",
    "    \n",
    "    # Forward pass\n",
    "    features = model.conv1(input_image)\n",
    "    features = model.bn1(features)\n",
    "    features = model.relu(features)\n",
    "    features = model.maxpool(features)\n",
    "\n",
    "    features = model.layer1(features)\n",
    "    features = model.layer2(features)\n",
    "    features = model.layer3(features)\n",
    "    features = model.layer4(features)\n",
    "\n",
    "    # Average pooling to reduce spatial dimensions to 1x1\n",
    "    pooled_features = nn.functional.adaptive_avg_pool2d(features, 1)\n",
    "    \n",
    "    # Compute the gradients of the target class score with respect to the pooled feature maps\n",
    "    gradients = None\n",
    "    for param in model.parameters():\n",
    "        param.requires_grad_(True)\n",
    "    output = model.fc(pooled_features.view(pooled_features.size(0), -1))\n",
    "    if target_class is None:\n",
    "        target_class = output.argmax(dim=1)\n",
    "    output[:, target_class].backward(retain_graph=True)\n",
    "    gradients = model.layer4[-1].conv2.weight.grad\n",
    "    alpha = gradients.mean(dim=(2, 3), keepdim=True)\n",
    "\n",
    "    # Compute the importance weights for each feature map\n",
    "    gradcam_map = (alpha * features).sum(dim=1, keepdim=True)\n",
    "    gradcam_map = nn.functional.relu(gradcam_map)\n",
    "    \n",
    "    # Resize the Grad-CAM map to match the input size\n",
    "    gradcam_map = nn.functional.interpolate(gradcam_map, size=(224, 224), mode='bilinear', align_corners=False)\n",
    "    \n",
    "    gc.collect()\n",
    "    \n",
    "    return np.mean(gradcam_map.squeeze().cpu().detach().numpy(), axis=0)"
   ]
  },
  {
   "cell_type": "code",
   "execution_count": 7,
   "id": "43c5e6d3",
   "metadata": {
    "execution": {
     "iopub.execute_input": "2024-05-03T13:33:02.691603Z",
     "iopub.status.busy": "2024-05-03T13:33:02.690876Z",
     "iopub.status.idle": "2024-05-03T13:33:02.697224Z",
     "shell.execute_reply": "2024-05-03T13:33:02.695967Z"
    },
    "papermill": {
     "duration": 0.014475,
     "end_time": "2024-05-03T13:33:02.699586",
     "exception": false,
     "start_time": "2024-05-03T13:33:02.685111",
     "status": "completed"
    },
    "tags": []
   },
   "outputs": [],
   "source": [
    "class ModifiedMobileNetV2(nn.Module):\n",
    "    def __init__(self, mobilenet):\n",
    "        super(ModifiedMobileNetV2, self).__init__()\n",
    "        self.mobilenet = mobilenet\n",
    "        self.softmax = nn.Softmax(dim=1)\n",
    "\n",
    "    def forward(self, x):\n",
    "        x = self.mobilenet(x)\n",
    "        x = self.softmax(x)\n",
    "        return x"
   ]
  },
  {
   "cell_type": "code",
   "execution_count": 8,
   "id": "0ab82410",
   "metadata": {
    "execution": {
     "iopub.execute_input": "2024-05-03T13:33:02.710777Z",
     "iopub.status.busy": "2024-05-03T13:33:02.710405Z",
     "iopub.status.idle": "2024-05-03T13:33:02.720530Z",
     "shell.execute_reply": "2024-05-03T13:33:02.719292Z"
    },
    "papermill": {
     "duration": 0.019275,
     "end_time": "2024-05-03T13:33:02.723587",
     "exception": false,
     "start_time": "2024-05-03T13:33:02.704312",
     "status": "completed"
    },
    "tags": []
   },
   "outputs": [],
   "source": [
    "def get_gradcam_map_mobilenet(model, input_image, target_class=None): \n",
    "    activation = {}\n",
    "    gradient = {}\n",
    "\n",
    "    def get_activation(name):\n",
    "        def hook(model, input, output):\n",
    "            activation[name] = output.detach()\n",
    "        return hook\n",
    "\n",
    "    def get_gradient(name):\n",
    "        def hook(module, grad_input, grad_output):\n",
    "            gradient[name] = grad_output[0].detach()\n",
    "        return hook\n",
    "\n",
    "    model.features[-1].register_forward_hook(get_activation('features'))\n",
    "    model.features[-1].register_backward_hook(get_gradient('features'))\n",
    "\n",
    "    model.eval()\n",
    "    output = model(input_image)\n",
    "    target_class = torch.argmax(output)\n",
    "\n",
    "    model.zero_grad()\n",
    "    output[:, target_class].backward(create_graph=True)\n",
    "    grads = gradient['features']\n",
    "    activations = activation['features']\n",
    "\n",
    "    for i in range(activations.shape[0]):\n",
    "        activations[i, :] *= grads[i, :]\n",
    "    grad_cam = torch.mean(activations, dim=1).unsqueeze(0)\n",
    "    \n",
    "    gc.collect()\n",
    "    \n",
    "    grad_cam = F.relu(grad_cam)\n",
    "    gradcam_map = nn.functional.interpolate(grad_cam, size=(224, 224), mode='bilinear', align_corners=False)\n",
    "    gradcam_map = gradcam_map.squeeze()\n",
    "    \n",
    "    gc.collect()\n",
    "    \n",
    "    return normalize_image(np.asarray(gradcam_map))"
   ]
  },
  {
   "cell_type": "code",
   "execution_count": 9,
   "id": "612bcf14",
   "metadata": {
    "execution": {
     "iopub.execute_input": "2024-05-03T13:33:02.735399Z",
     "iopub.status.busy": "2024-05-03T13:33:02.735021Z",
     "iopub.status.idle": "2024-05-03T13:33:02.742253Z",
     "shell.execute_reply": "2024-05-03T13:33:02.740911Z"
    },
    "papermill": {
     "duration": 0.015716,
     "end_time": "2024-05-03T13:33:02.744679",
     "exception": false,
     "start_time": "2024-05-03T13:33:02.728963",
     "status": "completed"
    },
    "tags": []
   },
   "outputs": [],
   "source": [
    "def get_metric_map(model, model_name, input_image, segmentation_path):\n",
    "    foreground_mask, background_mask = extract_foreground_background_masks(segmentation_path)\n",
    "    gc.collect()\n",
    "    \n",
    "    if model_name == \"resnet\":\n",
    "        model = model.eval()\n",
    "        gradcam_map = get_gradcam_map_resnet(model, input_image)\n",
    "    elif model_name == \"mobilenet\":\n",
    "        model = model.eval()\n",
    "        gradcam_map = get_gradcam_map_mobilenet(model, input_image)\n",
    "    else:\n",
    "        return\n",
    "    gc.collect()\n",
    "    \n",
    "    avg_background = np.mean(background_mask * gradcam_map)\n",
    "    percentile_value = np.percentile(background_mask * gradcam_map - avg_background, 60)\n",
    "\n",
    "    fg_image_map = (foreground_mask*gradcam_map- avg_background) > percentile_value\n",
    "    gc.collect()\n",
    "    \n",
    "    return fg_image_map"
   ]
  },
  {
   "cell_type": "code",
   "execution_count": 10,
   "id": "f934a5ba",
   "metadata": {
    "execution": {
     "iopub.execute_input": "2024-05-03T13:33:02.755810Z",
     "iopub.status.busy": "2024-05-03T13:33:02.755423Z",
     "iopub.status.idle": "2024-05-03T13:33:02.760498Z",
     "shell.execute_reply": "2024-05-03T13:33:02.759366Z"
    },
    "papermill": {
     "duration": 0.013627,
     "end_time": "2024-05-03T13:33:02.763059",
     "exception": false,
     "start_time": "2024-05-03T13:33:02.749432",
     "status": "completed"
    },
    "tags": []
   },
   "outputs": [],
   "source": [
    "MODEL_DIR = '/kaggle/input/deeplearning-data'\n",
    "IMAGE_DIR = '/kaggle/input/pascal-voc-2012/VOC2012/JPEGImages'\n",
    "SEGMENT_DIR = '/kaggle/input/pascal-voc-2012/VOC2012/SegmentationObject'"
   ]
  },
  {
   "cell_type": "code",
   "execution_count": 11,
   "id": "2b32d09c",
   "metadata": {
    "execution": {
     "iopub.execute_input": "2024-05-03T13:33:02.774627Z",
     "iopub.status.busy": "2024-05-03T13:33:02.774236Z",
     "iopub.status.idle": "2024-05-03T13:33:03.166058Z",
     "shell.execute_reply": "2024-05-03T13:33:03.165066Z"
    },
    "papermill": {
     "duration": 0.400805,
     "end_time": "2024-05-03T13:33:03.168498",
     "exception": false,
     "start_time": "2024-05-03T13:33:02.767693",
     "status": "completed"
    },
    "tags": []
   },
   "outputs": [],
   "source": [
    "test_list = []\n",
    "for file in os.listdir(SEGMENT_DIR):\n",
    "    if file.startswith(\"2007\"):\n",
    "        test_list.append(file.split('.')[0])\n",
    "    if len(test_list) == 1:\n",
    "        break"
   ]
  },
  {
   "cell_type": "code",
   "execution_count": 12,
   "id": "878571f6",
   "metadata": {
    "execution": {
     "iopub.execute_input": "2024-05-03T13:33:03.179693Z",
     "iopub.status.busy": "2024-05-03T13:33:03.179083Z",
     "iopub.status.idle": "2024-05-03T13:33:03.186934Z",
     "shell.execute_reply": "2024-05-03T13:33:03.185921Z"
    },
    "papermill": {
     "duration": 0.015989,
     "end_time": "2024-05-03T13:33:03.189210",
     "exception": false,
     "start_time": "2024-05-03T13:33:03.173221",
     "status": "completed"
    },
    "tags": []
   },
   "outputs": [],
   "source": [
    "def get_detour_metric(test_list, folder_name, model_name):\n",
    "    performance = []\n",
    "    for data in test_list:\n",
    "        fmap = None\n",
    "        fg_map = None\n",
    "        for i in range(1,16):\n",
    "            model = pickle.load(open(os.path.join(MODEL_DIR, f'{folder_name}/{model_name}{i}.pkl'),'rb'))\n",
    "            model = model.mobilenet\n",
    "            \n",
    "            image = preprocess_image(os.path.join(IMAGE_DIR,f'{data}.jpg'))\n",
    "            segmentation_path = os.path.join(SEGMENT_DIR,f'{data}.png')\n",
    "            \n",
    "            if fmap is not None:\n",
    "                fmap = np.logical_or(fmap, get_metric_map(model, 'mobilenet', image, segmentation_path))\n",
    "            else:\n",
    "                fmap = get_metric_map(model, 'mobilenet', image, segmentation_path)\n",
    "            gc.collect()\n",
    "        \n",
    "        metric = np.sum(get_metric_map(model, 'mobilenet', image, segmentation_path))/np.sum(fmap)\n",
    "        performance.append(metric/len(test_list))\n",
    "        del(model)\n",
    "    return performance"
   ]
  },
  {
   "cell_type": "code",
   "execution_count": 13,
   "id": "367419d0",
   "metadata": {
    "execution": {
     "iopub.execute_input": "2024-05-03T13:33:03.200317Z",
     "iopub.status.busy": "2024-05-03T13:33:03.199665Z",
     "iopub.status.idle": "2024-05-03T13:33:37.818361Z",
     "shell.execute_reply": "2024-05-03T13:33:37.817172Z"
    },
    "papermill": {
     "duration": 34.631623,
     "end_time": "2024-05-03T13:33:37.825386",
     "exception": false,
     "start_time": "2024-05-03T13:33:03.193763",
     "status": "completed"
    },
    "tags": []
   },
   "outputs": [
    {
     "data": {
      "text/plain": [
       "0"
      ]
     },
     "execution_count": 13,
     "metadata": {},
     "output_type": "execute_result"
    }
   ],
   "source": [
    "student_detour = get_detour_metric(test_list, 'student', 'mobilenet_vanilla')\n",
    "gc.collect()"
   ]
  },
  {
   "cell_type": "code",
   "execution_count": 14,
   "id": "d0419a25",
   "metadata": {
    "execution": {
     "iopub.execute_input": "2024-05-03T13:33:37.836328Z",
     "iopub.status.busy": "2024-05-03T13:33:37.835934Z",
     "iopub.status.idle": "2024-05-03T13:34:12.370161Z",
     "shell.execute_reply": "2024-05-03T13:34:12.368871Z"
    },
    "papermill": {
     "duration": 34.546482,
     "end_time": "2024-05-03T13:34:12.376469",
     "exception": false,
     "start_time": "2024-05-03T13:33:37.829987",
     "status": "completed"
    },
    "tags": []
   },
   "outputs": [
    {
     "data": {
      "text/plain": [
       "0"
      ]
     },
     "execution_count": 14,
     "metadata": {},
     "output_type": "execute_result"
    }
   ],
   "source": [
    "KD_detour = get_detour_metric(test_list, 'KD', 'mobilenet_KD')\n",
    "gc.collect()"
   ]
  },
  {
   "cell_type": "code",
   "execution_count": 15,
   "id": "6e08aada",
   "metadata": {
    "execution": {
     "iopub.execute_input": "2024-05-03T13:34:12.387420Z",
     "iopub.status.busy": "2024-05-03T13:34:12.387028Z",
     "iopub.status.idle": "2024-05-03T13:34:47.773383Z",
     "shell.execute_reply": "2024-05-03T13:34:47.772277Z"
    },
    "papermill": {
     "duration": 35.3995,
     "end_time": "2024-05-03T13:34:47.780631",
     "exception": false,
     "start_time": "2024-05-03T13:34:12.381131",
     "status": "completed"
    },
    "tags": []
   },
   "outputs": [
    {
     "data": {
      "text/plain": [
       "0"
      ]
     },
     "execution_count": 15,
     "metadata": {},
     "output_type": "execute_result"
    }
   ],
   "source": [
    "EKD_detour = get_detour_metric(test_list, 'EKD', 'mobilenet_EKD')\n",
    "gc.collect()"
   ]
  },
  {
   "cell_type": "code",
   "execution_count": 16,
   "id": "3a484d76",
   "metadata": {
    "execution": {
     "iopub.execute_input": "2024-05-03T13:34:47.793870Z",
     "iopub.status.busy": "2024-05-03T13:34:47.792674Z",
     "iopub.status.idle": "2024-05-03T13:34:48.023039Z",
     "shell.execute_reply": "2024-05-03T13:34:48.021966Z"
    },
    "papermill": {
     "duration": 0.239157,
     "end_time": "2024-05-03T13:34:48.025434",
     "exception": false,
     "start_time": "2024-05-03T13:34:47.786277",
     "status": "completed"
    },
    "tags": []
   },
   "outputs": [
    {
     "data": {
      "image/png": "[encoded data removed]",
      "text/plain": [
       "<Figure size 640x480 with 1 Axes>"
      ]
     },
     "metadata": {},
     "output_type": "display_data"
    }
   ],
   "source": [
    "data = {'Vanilla': student_detour[0], 'KD': KD_detour[0], 'EKD': EKD_detour[0]}\n",
    "\n",
    "labels = list(data.keys())\n",
    "values = list(data.values())\n",
    "\n",
    "plt.bar(labels, values)\n",
    "\n",
    "plt.xlabel('Models')\n",
    "plt.ylabel('Detours')\n",
    "plt.title('Model Detour')\n",
    "\n",
    "plt.show()"
   ]
  }
 ],
 "metadata": {
  "kaggle": {
   "accelerator": "none",
   "dataSources": [
    {
     "datasetId": 35388,
     "sourceId": 47853,
     "sourceType": "datasetVersion"
    },
    {
     "datasetId": 4922257,
     "sourceId": 8299518,
     "sourceType": "datasetVersion"
    }
   ],
   "dockerImageVersionId": 30698,
   "isGpuEnabled": false,
   "isInternetEnabled": true,
   "language": "python",
   "sourceType": "notebook"
  },
  "kernelspec": {
   "display_name": "Python 3",
   "language": "python",
   "name": "python3"
  },
  "language_info": {
   "codemirror_mode": {
    "name": "ipython",
    "version": 3
   },
   "file_extension": ".py",
   "mimetype": "text/x-python",
   "name": "python",
   "nbconvert_exporter": "python",
   "pygments_lexer": "ipython3",
   "version": "3.10.13"
  },
  "papermill": {
   "default_parameters": {},
   "duration": 116.817531,
   "end_time": "2024-05-03T13:34:49.858040",
   "environment_variables": {},
   "exception": null,
   "input_path": "__notebook__.ipynb",
   "output_path": "__notebook__.ipynb",
   "parameters": {},
   "start_time": "2024-05-03T13:32:53.040509",
   "version": "2.5.0"
  }
 },
 "nbformat": 4,
 "nbformat_minor": 5
}
