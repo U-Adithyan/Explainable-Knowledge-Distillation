{
 "cells": [
  {
   "cell_type": "code",
   "execution_count": 1,
   "id": "2ab7e00c",
   "metadata": {
    "execution": {
     "iopub.execute_input": "2024-05-02T12:10:28.312957Z",
     "iopub.status.busy": "2024-05-02T12:10:28.312300Z",
     "iopub.status.idle": "2024-05-02T12:10:29.469375Z",
     "shell.execute_reply": "2024-05-02T12:10:29.468284Z"
    },
    "papermill": {
     "duration": 1.169694,
     "end_time": "2024-05-02T12:10:29.472293",
     "exception": false,
     "start_time": "2024-05-02T12:10:28.302599",
     "status": "completed"
    },
    "tags": []
   },
   "outputs": [],
   "source": [
    "import os\n",
    "import glob\n",
    "import pandas as pd\n",
    "import numpy as np\n",
    "from tqdm import tqdm\n",
    "import pickle\n",
    "from PIL import Image\n",
    "\n",
    "\n",
    "import xml.etree.ElementTree as ET"
   ]
  },
  {
   "cell_type": "code",
   "execution_count": 2,
   "id": "2ed3bf2b",
   "metadata": {
    "execution": {
     "iopub.execute_input": "2024-05-02T12:10:29.490087Z",
     "iopub.status.busy": "2024-05-02T12:10:29.489270Z",
     "iopub.status.idle": "2024-05-02T12:10:29.494784Z",
     "shell.execute_reply": "2024-05-02T12:10:29.493423Z"
    },
    "papermill": {
     "duration": 0.017421,
     "end_time": "2024-05-02T12:10:29.497587",
     "exception": false,
     "start_time": "2024-05-02T12:10:29.480166",
     "status": "completed"
    },
    "tags": []
   },
   "outputs": [],
   "source": [
    "MAIN_DIR = '/kaggle/input/pascal-voc-2012/VOC2012'"
   ]
  },
  {
   "cell_type": "code",
   "execution_count": 3,
   "id": "cd1c36f4",
   "metadata": {
    "_cell_guid": "b1076dfc-b9ad-4769-8c92-a6c4dae69d19",
    "_uuid": "8f2839f25d086af736a60e9eeb907d3b93b6e0e5",
    "execution": {
     "iopub.execute_input": "2024-05-02T12:10:29.513519Z",
     "iopub.status.busy": "2024-05-02T12:10:29.513102Z",
     "iopub.status.idle": "2024-05-02T12:10:29.525636Z",
     "shell.execute_reply": "2024-05-02T12:10:29.524399Z"
    },
    "papermill": {
     "duration": 0.024153,
     "end_time": "2024-05-02T12:10:29.528637",
     "exception": false,
     "start_time": "2024-05-02T12:10:29.504484",
     "status": "completed"
    },
    "tags": []
   },
   "outputs": [],
   "source": [
    "def xml_to_csv(path = os.path.join(MAIN_DIR,'Annotations')):\n",
    "    xml_list = []\n",
    "    \n",
    "    for xml_file in tqdm(glob.glob(os.path.join(path, '2007*.xml'))):\n",
    "        tree = ET.parse(xml_file)\n",
    "        root = tree.getroot()\n",
    "        \n",
    "        for obj in root.findall('object'):\n",
    "            bbx = obj.find('bndbox')\n",
    "            xmin = int(bbx.find('xmin').text)\n",
    "            ymin = int(bbx.find('ymin').text)\n",
    "            xmax = int(bbx.find('xmax').text)\n",
    "            ymax = int(bbx.find('ymax').text)\n",
    "            label = obj.find('name').text\n",
    "\n",
    "            # it would be better to use column name instead of index\n",
    "            value = (root.find('filename').text,\n",
    "                     int(root.find('size').find('depth').text), #0 , 2\n",
    "                     int(root.find('size').find('width').text), #1 , 0\n",
    "                     int(root.find('size').find('height').text), #2 , 1\n",
    "                     label,\n",
    "                     xmin,\n",
    "                     ymin,\n",
    "                     xmax,\n",
    "                     ymax\n",
    "                     )\n",
    "            xml_list.append(value)\n",
    "            \n",
    "    column_name = ['filename', 'channels', 'width', 'height',\n",
    "                   'class', 'xmin', 'ymin', 'xmax', 'ymax']\n",
    "    \n",
    "    xml_df = pd.DataFrame(xml_list, columns=column_name)\n",
    "    \n",
    "    return xml_df"
   ]
  },
  {
   "cell_type": "code",
   "execution_count": 4,
   "id": "21ca73ad",
   "metadata": {
    "execution": {
     "iopub.execute_input": "2024-05-02T12:10:29.544676Z",
     "iopub.status.busy": "2024-05-02T12:10:29.544306Z",
     "iopub.status.idle": "2024-05-02T12:10:41.932809Z",
     "shell.execute_reply": "2024-05-02T12:10:41.931043Z"
    },
    "papermill": {
     "duration": 12.400251,
     "end_time": "2024-05-02T12:10:41.935766",
     "exception": false,
     "start_time": "2024-05-02T12:10:29.535515",
     "status": "completed"
    },
    "tags": []
   },
   "outputs": [
    {
     "name": "stderr",
     "output_type": "stream",
     "text": [
      "100%|██████████| 756/756 [00:10<00:00, 71.74it/s]\n"
     ]
    }
   ],
   "source": [
    "xml_df = xml_to_csv()"
   ]
  },
  {
   "cell_type": "code",
   "execution_count": 5,
   "id": "7274bb9a",
   "metadata": {
    "execution": {
     "iopub.execute_input": "2024-05-02T12:10:41.969824Z",
     "iopub.status.busy": "2024-05-02T12:10:41.969341Z",
     "iopub.status.idle": "2024-05-02T12:10:41.993504Z",
     "shell.execute_reply": "2024-05-02T12:10:41.992275Z"
    },
    "papermill": {
     "duration": 0.04415,
     "end_time": "2024-05-02T12:10:41.996762",
     "exception": false,
     "start_time": "2024-05-02T12:10:41.952612",
     "status": "completed"
    },
    "tags": []
   },
   "outputs": [],
   "source": [
    "xml_df.to_csv('data_descriptor.csv', index = False)"
   ]
  },
  {
   "cell_type": "code",
   "execution_count": 6,
   "id": "26cf094b",
   "metadata": {
    "execution": {
     "iopub.execute_input": "2024-05-02T12:10:42.032234Z",
     "iopub.status.busy": "2024-05-02T12:10:42.031786Z",
     "iopub.status.idle": "2024-05-02T12:10:42.072371Z",
     "shell.execute_reply": "2024-05-02T12:10:42.071003Z"
    },
    "papermill": {
     "duration": 0.061923,
     "end_time": "2024-05-02T12:10:42.075460",
     "exception": false,
     "start_time": "2024-05-02T12:10:42.013537",
     "status": "completed"
    },
    "tags": []
   },
   "outputs": [
    {
     "data": {
      "text/html": [
       "<div>\n",
       "<style scoped>\n",
       "    .dataframe tbody tr th:only-of-type {\n",
       "        vertical-align: middle;\n",
       "    }\n",
       "\n",
       "    .dataframe tbody tr th {\n",
       "        vertical-align: top;\n",
       "    }\n",
       "\n",
       "    .dataframe thead th {\n",
       "        text-align: right;\n",
       "    }\n",
       "</style>\n",
       "<table border=\"1\" class=\"dataframe\">\n",
       "  <thead>\n",
       "    <tr style=\"text-align: right;\">\n",
       "      <th></th>\n",
       "      <th>filename</th>\n",
       "      <th>channels</th>\n",
       "      <th>width</th>\n",
       "      <th>height</th>\n",
       "      <th>class</th>\n",
       "      <th>xmin</th>\n",
       "      <th>ymin</th>\n",
       "      <th>xmax</th>\n",
       "      <th>ymax</th>\n",
       "    </tr>\n",
       "  </thead>\n",
       "  <tbody>\n",
       "    <tr>\n",
       "      <th>0</th>\n",
       "      <td>2007_005144.jpg</td>\n",
       "      <td>3</td>\n",
       "      <td>332</td>\n",
       "      <td>500</td>\n",
       "      <td>person</td>\n",
       "      <td>1</td>\n",
       "      <td>12</td>\n",
       "      <td>331</td>\n",
       "      <td>500</td>\n",
       "    </tr>\n",
       "    <tr>\n",
       "      <th>1</th>\n",
       "      <td>2007_005989.jpg</td>\n",
       "      <td>3</td>\n",
       "      <td>500</td>\n",
       "      <td>375</td>\n",
       "      <td>motorbike</td>\n",
       "      <td>140</td>\n",
       "      <td>130</td>\n",
       "      <td>408</td>\n",
       "      <td>273</td>\n",
       "    </tr>\n",
       "    <tr>\n",
       "      <th>2</th>\n",
       "      <td>2007_005989.jpg</td>\n",
       "      <td>3</td>\n",
       "      <td>500</td>\n",
       "      <td>375</td>\n",
       "      <td>person</td>\n",
       "      <td>213</td>\n",
       "      <td>96</td>\n",
       "      <td>355</td>\n",
       "      <td>260</td>\n",
       "    </tr>\n",
       "    <tr>\n",
       "      <th>3</th>\n",
       "      <td>2007_002107.jpg</td>\n",
       "      <td>3</td>\n",
       "      <td>500</td>\n",
       "      <td>375</td>\n",
       "      <td>aeroplane</td>\n",
       "      <td>408</td>\n",
       "      <td>243</td>\n",
       "      <td>449</td>\n",
       "      <td>257</td>\n",
       "    </tr>\n",
       "    <tr>\n",
       "      <th>4</th>\n",
       "      <td>2007_000822.jpg</td>\n",
       "      <td>3</td>\n",
       "      <td>500</td>\n",
       "      <td>374</td>\n",
       "      <td>motorbike</td>\n",
       "      <td>98</td>\n",
       "      <td>165</td>\n",
       "      <td>230</td>\n",
       "      <td>346</td>\n",
       "    </tr>\n",
       "    <tr>\n",
       "      <th>...</th>\n",
       "      <td>...</td>\n",
       "      <td>...</td>\n",
       "      <td>...</td>\n",
       "      <td>...</td>\n",
       "      <td>...</td>\n",
       "      <td>...</td>\n",
       "      <td>...</td>\n",
       "      <td>...</td>\n",
       "      <td>...</td>\n",
       "    </tr>\n",
       "    <tr>\n",
       "      <th>1989</th>\n",
       "      <td>2007_001583.jpg</td>\n",
       "      <td>3</td>\n",
       "      <td>500</td>\n",
       "      <td>375</td>\n",
       "      <td>person</td>\n",
       "      <td>70</td>\n",
       "      <td>16</td>\n",
       "      <td>232</td>\n",
       "      <td>375</td>\n",
       "    </tr>\n",
       "    <tr>\n",
       "      <th>1990</th>\n",
       "      <td>2007_006400.jpg</td>\n",
       "      <td>3</td>\n",
       "      <td>500</td>\n",
       "      <td>335</td>\n",
       "      <td>train</td>\n",
       "      <td>433</td>\n",
       "      <td>80</td>\n",
       "      <td>500</td>\n",
       "      <td>256</td>\n",
       "    </tr>\n",
       "    <tr>\n",
       "      <th>1991</th>\n",
       "      <td>2007_006400.jpg</td>\n",
       "      <td>3</td>\n",
       "      <td>500</td>\n",
       "      <td>335</td>\n",
       "      <td>train</td>\n",
       "      <td>189</td>\n",
       "      <td>101</td>\n",
       "      <td>440</td>\n",
       "      <td>235</td>\n",
       "    </tr>\n",
       "    <tr>\n",
       "      <th>1992</th>\n",
       "      <td>2007_006400.jpg</td>\n",
       "      <td>3</td>\n",
       "      <td>500</td>\n",
       "      <td>335</td>\n",
       "      <td>train</td>\n",
       "      <td>40</td>\n",
       "      <td>125</td>\n",
       "      <td>199</td>\n",
       "      <td>203</td>\n",
       "    </tr>\n",
       "    <tr>\n",
       "      <th>1993</th>\n",
       "      <td>2007_004644.jpg</td>\n",
       "      <td>3</td>\n",
       "      <td>500</td>\n",
       "      <td>333</td>\n",
       "      <td>dog</td>\n",
       "      <td>1</td>\n",
       "      <td>26</td>\n",
       "      <td>186</td>\n",
       "      <td>260</td>\n",
       "    </tr>\n",
       "  </tbody>\n",
       "</table>\n",
       "<p>1994 rows × 9 columns</p>\n",
       "</div>"
      ],
      "text/plain": [
       "             filename  channels  width  height      class  xmin  ymin  xmax  \\\n",
       "0     2007_005144.jpg         3    332     500     person     1    12   331   \n",
       "1     2007_005989.jpg         3    500     375  motorbike   140   130   408   \n",
       "2     2007_005989.jpg         3    500     375     person   213    96   355   \n",
       "3     2007_002107.jpg         3    500     375  aeroplane   408   243   449   \n",
       "4     2007_000822.jpg         3    500     374  motorbike    98   165   230   \n",
       "...               ...       ...    ...     ...        ...   ...   ...   ...   \n",
       "1989  2007_001583.jpg         3    500     375     person    70    16   232   \n",
       "1990  2007_006400.jpg         3    500     335      train   433    80   500   \n",
       "1991  2007_006400.jpg         3    500     335      train   189   101   440   \n",
       "1992  2007_006400.jpg         3    500     335      train    40   125   199   \n",
       "1993  2007_004644.jpg         3    500     333        dog     1    26   186   \n",
       "\n",
       "      ymax  \n",
       "0      500  \n",
       "1      273  \n",
       "2      260  \n",
       "3      257  \n",
       "4      346  \n",
       "...    ...  \n",
       "1989   375  \n",
       "1990   256  \n",
       "1991   235  \n",
       "1992   203  \n",
       "1993   260  \n",
       "\n",
       "[1994 rows x 9 columns]"
      ]
     },
     "execution_count": 6,
     "metadata": {},
     "output_type": "execute_result"
    }
   ],
   "source": [
    "xml_df"
   ]
  },
  {
   "cell_type": "code",
   "execution_count": 7,
   "id": "a07bafa8",
   "metadata": {
    "execution": {
     "iopub.execute_input": "2024-05-02T12:10:42.109387Z",
     "iopub.status.busy": "2024-05-02T12:10:42.108899Z",
     "iopub.status.idle": "2024-05-02T12:10:42.115752Z",
     "shell.execute_reply": "2024-05-02T12:10:42.114105Z"
    },
    "papermill": {
     "duration": 0.027021,
     "end_time": "2024-05-02T12:10:42.118739",
     "exception": false,
     "start_time": "2024-05-02T12:10:42.091718",
     "status": "completed"
    },
    "tags": []
   },
   "outputs": [],
   "source": [
    "classes = [\"aeroplane\", \"bicycle\", \"bird\", \"boat\", \"bottle\", \"bus\", \"car\", \"cat\", \"chair\", \"cow\", \n",
    "           \"diningtable\", \"dog\", \"horse\", \"motorbike\", \"person\", \"pottedplant\", \"sheep\", \"sofa\",\n",
    "           \"train\", \"tvmonitor\"]\n",
    "num_classes = len(classes)"
   ]
  },
  {
   "cell_type": "markdown",
   "id": "0c5c7958",
   "metadata": {
    "papermill": {
     "duration": 0.0167,
     "end_time": "2024-05-02T12:10:42.150995",
     "exception": false,
     "start_time": "2024-05-02T12:10:42.134295",
     "status": "completed"
    },
    "tags": []
   },
   "source": [
    "## Vanilla KD Training"
   ]
  },
  {
   "cell_type": "code",
   "execution_count": 8,
   "id": "1a971073",
   "metadata": {
    "execution": {
     "iopub.execute_input": "2024-05-02T12:10:42.185080Z",
     "iopub.status.busy": "2024-05-02T12:10:42.184643Z",
     "iopub.status.idle": "2024-05-02T12:10:52.988489Z",
     "shell.execute_reply": "2024-05-02T12:10:52.987119Z"
    },
    "papermill": {
     "duration": 10.824127,
     "end_time": "2024-05-02T12:10:52.991829",
     "exception": false,
     "start_time": "2024-05-02T12:10:42.167702",
     "status": "completed"
    },
    "tags": []
   },
   "outputs": [],
   "source": [
    "import torch\n",
    "from torch.utils.data import Dataset, DataLoader\n",
    "from sklearn.preprocessing import LabelEncoder\n",
    "import torchvision.transforms as transforms\n",
    "import torch.nn as nn\n",
    "import torch.optim as optim\n",
    "import torchvision.models as models\n",
    "import torch.nn.functional as F"
   ]
  },
  {
   "cell_type": "code",
   "execution_count": 9,
   "id": "06077356",
   "metadata": {
    "execution": {
     "iopub.execute_input": "2024-05-02T12:10:53.026285Z",
     "iopub.status.busy": "2024-05-02T12:10:53.024536Z",
     "iopub.status.idle": "2024-05-02T12:10:53.033782Z",
     "shell.execute_reply": "2024-05-02T12:10:53.032759Z"
    },
    "papermill": {
     "duration": 0.028656,
     "end_time": "2024-05-02T12:10:53.036396",
     "exception": false,
     "start_time": "2024-05-02T12:10:53.007740",
     "status": "completed"
    },
    "tags": []
   },
   "outputs": [],
   "source": [
    "class CustomDataset(Dataset):\n",
    "    def __init__(self, dataframe, transform=None):\n",
    "        self.dataframe = dataframe\n",
    "        self.transform = transform\n",
    "\n",
    "    def __len__(self):\n",
    "        return len(self.dataframe)\n",
    "\n",
    "    def __getitem__(self, idx):\n",
    "        img_path = os.path.join(MAIN_DIR,'JPEGImages',self.dataframe.iloc[idx]['filename'])\n",
    "        label = self.dataframe.iloc[idx]['class']\n",
    "\n",
    "        img = Image.open(img_path).convert('RGB')\n",
    "\n",
    "        if self.transform:\n",
    "            img = self.transform(img)\n",
    "\n",
    "        return img, label"
   ]
  },
  {
   "cell_type": "code",
   "execution_count": 10,
   "id": "e1e4d2b1",
   "metadata": {
    "execution": {
     "iopub.execute_input": "2024-05-02T12:10:53.073671Z",
     "iopub.status.busy": "2024-05-02T12:10:53.072970Z",
     "iopub.status.idle": "2024-05-02T12:10:53.080888Z",
     "shell.execute_reply": "2024-05-02T12:10:53.079408Z"
    },
    "papermill": {
     "duration": 0.029649,
     "end_time": "2024-05-02T12:10:53.084104",
     "exception": false,
     "start_time": "2024-05-02T12:10:53.054455",
     "status": "completed"
    },
    "tags": []
   },
   "outputs": [],
   "source": [
    "label_encoder = LabelEncoder().fit(xml_df['class'])\n",
    "xml_df['class'] = label_encoder.transform(xml_df['class'])"
   ]
  },
  {
   "cell_type": "code",
   "execution_count": 11,
   "id": "5736c000",
   "metadata": {
    "execution": {
     "iopub.execute_input": "2024-05-02T12:10:53.120497Z",
     "iopub.status.busy": "2024-05-02T12:10:53.119782Z",
     "iopub.status.idle": "2024-05-02T12:10:53.126872Z",
     "shell.execute_reply": "2024-05-02T12:10:53.125418Z"
    },
    "papermill": {
     "duration": 0.02982,
     "end_time": "2024-05-02T12:10:53.130450",
     "exception": false,
     "start_time": "2024-05-02T12:10:53.100630",
     "status": "completed"
    },
    "tags": []
   },
   "outputs": [],
   "source": [
    "transform = transforms.Compose([\n",
    "    transforms.Resize((224, 224)),\n",
    "    transforms.ToTensor(),\n",
    "    transforms.Normalize(mean=[0.485, 0.456, 0.406], std=[0.229, 0.224, 0.225]),  # Assuming using ImageNet normalization\n",
    "])\n",
    "\n",
    "dataset = CustomDataset(xml_df, transform = transform)\n",
    "dataloader = DataLoader(dataset, batch_size = 32, shuffle=True, num_workers=4)\n"
   ]
  },
  {
   "cell_type": "code",
   "execution_count": 12,
   "id": "8dab0132",
   "metadata": {
    "execution": {
     "iopub.execute_input": "2024-05-02T12:10:53.166414Z",
     "iopub.status.busy": "2024-05-02T12:10:53.165699Z",
     "iopub.status.idle": "2024-05-02T12:10:53.740679Z",
     "shell.execute_reply": "2024-05-02T12:10:53.739339Z"
    },
    "papermill": {
     "duration": 0.597538,
     "end_time": "2024-05-02T12:10:53.744083",
     "exception": false,
     "start_time": "2024-05-02T12:10:53.146545",
     "status": "completed"
    },
    "tags": []
   },
   "outputs": [
    {
     "name": "stderr",
     "output_type": "stream",
     "text": [
      "/opt/conda/lib/python3.10/site-packages/torchvision/models/_utils.py:208: UserWarning: The parameter 'pretrained' is deprecated since 0.13 and may be removed in the future, please use 'weights' instead.\n",
      "  warnings.warn(\n",
      "/opt/conda/lib/python3.10/site-packages/torchvision/models/_utils.py:223: UserWarning: Arguments other than a weight enum or `None` for 'weights' are deprecated since 0.13 and may be removed in the future. The current behavior is equivalent to passing `weights=MobileNet_V2_Weights.IMAGENET1K_V1`. You can also use `weights=MobileNet_V2_Weights.DEFAULT` to get the most up-to-date weights.\n",
      "  warnings.warn(msg)\n",
      "Downloading: \"https://download.pytorch.org/models/mobilenet_v2-b0353104.pth\" to /root/.cache/torch/hub/checkpoints/mobilenet_v2-b0353104.pth\n",
      "100%|██████████| 13.6M/13.6M [00:00<00:00, 57.1MB/s]\n"
     ]
    }
   ],
   "source": [
    "mobilenet = models.mobilenet_v2(pretrained=True)\n",
    "mobilenet.classifier[1] = torch.nn.Linear(mobilenet.classifier[1].in_features, num_classes)\n",
    "\n",
    "class ModifiedMobileNetV2(nn.Module):\n",
    "    def __init__(self, mobilenet):\n",
    "        super(ModifiedMobileNetV2, self).__init__()\n",
    "        self.mobilenet = mobilenet\n",
    "        self.softmax = nn.Softmax(dim=1)\n",
    "\n",
    "    def forward(self, x):\n",
    "        x = self.mobilenet(x)\n",
    "        x = self.softmax(x)\n",
    "        return x\n",
    "\n",
    "mobilenet = ModifiedMobileNetV2(mobilenet)"
   ]
  },
  {
   "cell_type": "code",
   "execution_count": 13,
   "id": "ae06f9b4",
   "metadata": {
    "execution": {
     "iopub.execute_input": "2024-05-02T12:10:53.793995Z",
     "iopub.status.busy": "2024-05-02T12:10:53.792901Z",
     "iopub.status.idle": "2024-05-02T12:10:53.801966Z",
     "shell.execute_reply": "2024-05-02T12:10:53.800542Z"
    },
    "papermill": {
     "duration": 0.039096,
     "end_time": "2024-05-02T12:10:53.805800",
     "exception": false,
     "start_time": "2024-05-02T12:10:53.766704",
     "status": "completed"
    },
    "tags": []
   },
   "outputs": [],
   "source": [
    "criterion = nn.CrossEntropyLoss()\n",
    "kl_div_loss = nn.KLDivLoss()\n",
    "optimizer = optim.SGD(mobilenet.parameters(), lr=0.005, momentum=0.9)"
   ]
  },
  {
   "cell_type": "code",
   "execution_count": 14,
   "id": "7bfa510a",
   "metadata": {
    "execution": {
     "iopub.execute_input": "2024-05-02T12:10:53.848120Z",
     "iopub.status.busy": "2024-05-02T12:10:53.847326Z",
     "iopub.status.idle": "2024-05-02T12:10:53.854148Z",
     "shell.execute_reply": "2024-05-02T12:10:53.853088Z"
    },
    "papermill": {
     "duration": 0.027702,
     "end_time": "2024-05-02T12:10:53.856762",
     "exception": false,
     "start_time": "2024-05-02T12:10:53.829060",
     "status": "completed"
    },
    "tags": []
   },
   "outputs": [],
   "source": [
    "class ModifiedResnet(nn.Module):\n",
    "    def __init__(self, resnet):\n",
    "        super(ModifiedResnet, self).__init__()\n",
    "        self.resnet = resnet\n",
    "        self.softmax = nn.Softmax(dim=1)\n",
    "\n",
    "    def forward(self, x):\n",
    "        x = self.resnet(x)\n",
    "        x = self.softmax(x)\n",
    "        return x\n"
   ]
  },
  {
   "cell_type": "code",
   "execution_count": 15,
   "id": "d257e3e5",
   "metadata": {
    "execution": {
     "iopub.execute_input": "2024-05-02T12:10:53.893863Z",
     "iopub.status.busy": "2024-05-02T12:10:53.893114Z",
     "iopub.status.idle": "2024-05-02T12:10:54.621463Z",
     "shell.execute_reply": "2024-05-02T12:10:54.620059Z"
    },
    "papermill": {
     "duration": 0.750181,
     "end_time": "2024-05-02T12:10:54.624885",
     "exception": false,
     "start_time": "2024-05-02T12:10:53.874704",
     "status": "completed"
    },
    "tags": []
   },
   "outputs": [],
   "source": [
    "teacher = pickle.load(open('/kaggle/input/deeplearning-data/teacher.pkl','rb'))"
   ]
  },
  {
   "cell_type": "code",
   "execution_count": 16,
   "id": "fa22e9b3",
   "metadata": {
    "execution": {
     "iopub.execute_input": "2024-05-02T12:10:54.659318Z",
     "iopub.status.busy": "2024-05-02T12:10:54.658889Z",
     "iopub.status.idle": "2024-05-02T14:23:52.142731Z",
     "shell.execute_reply": "2024-05-02T14:23:52.139368Z"
    },
    "papermill": {
     "duration": 7977.523086,
     "end_time": "2024-05-02T14:23:52.164384",
     "exception": false,
     "start_time": "2024-05-02T12:10:54.641298",
     "status": "completed"
    },
    "tags": []
   },
   "outputs": [
    {
     "name": "stderr",
     "output_type": "stream",
     "text": [
      "/opt/conda/lib/python3.10/multiprocessing/popen_fork.py:66: RuntimeWarning: os.fork() was called. os.fork() is incompatible with multithreaded code, and JAX is multithreaded, so this will likely lead to a deadlock.\n",
      "  self.pid = os.fork()\n",
      "/opt/conda/lib/python3.10/site-packages/torch/nn/functional.py:2943: UserWarning: reduction: 'mean' divides the total loss by both the batch size and the support size.'batchmean' divides only by the batch size, and aligns with the KL div math definition.'mean' will be changed to behave the same as 'batchmean' in the next major release.\n",
      "  warnings.warn(\n",
      "/opt/conda/lib/python3.10/multiprocessing/popen_fork.py:66: RuntimeWarning: os.fork() was called. os.fork() is incompatible with multithreaded code, and JAX is multithreaded, so this will likely lead to a deadlock.\n",
      "  self.pid = os.fork()\n"
     ]
    },
    {
     "name": "stdout",
     "output_type": "stream",
     "text": [
      "Epoch 1/20, Loss: 0.0869\n",
      "Epoch 2/20, Loss: 0.0849\n",
      "Epoch 3/20, Loss: 0.0850\n",
      "Epoch 4/20, Loss: 0.0848\n",
      "Epoch 5/20, Loss: 0.0843\n",
      "Epoch 6/20, Loss: 0.0833\n",
      "Epoch 7/20, Loss: 0.0830\n",
      "Epoch 8/20, Loss: 0.0827\n",
      "Epoch 9/20, Loss: 0.0819\n",
      "Epoch 10/20, Loss: 0.0815\n",
      "Epoch 11/20, Loss: 0.0811\n",
      "Epoch 12/20, Loss: 0.0804\n",
      "Epoch 13/20, Loss: 0.0795\n",
      "Epoch 14/20, Loss: 0.0790\n",
      "Epoch 15/20, Loss: 0.0784\n",
      "Epoch 16/20, Loss: 0.0778\n",
      "Epoch 17/20, Loss: 0.0774\n",
      "Epoch 18/20, Loss: 0.0771\n",
      "Epoch 19/20, Loss: 0.0770\n",
      "Epoch 20/20, Loss: 0.0769\n"
     ]
    }
   ],
   "source": [
    "def train_model(student_model, teacher_model, criterion, optimizer, num_epochs = 10):\n",
    "    for epoch in range(num_epochs):\n",
    "        student_model.train()\n",
    "        total_loss = 0.0\n",
    "\n",
    "        for inputs, labels in dataloader:\n",
    "\n",
    "            optimizer.zero_grad()\n",
    "            with torch.no_grad():\n",
    "                teacher_outputs = teacher_model(inputs)\n",
    "                \n",
    "            student_outputs = student_model(inputs)\n",
    "            \n",
    "            kd_loss = kl_div_loss(student_outputs, teacher_outputs)\n",
    "            ce_loss = criterion(student_outputs, labels)\n",
    "            \n",
    "            loss = kd_loss + ce_loss\n",
    "\n",
    "            loss.backward()\n",
    "            optimizer.step()\n",
    "\n",
    "            total_loss += loss.item()\n",
    "        print(f\"Epoch {epoch+1}/{num_epochs}, Loss: {total_loss/len(dataloader.dataset):.4f}\")\n",
    "        with open(f'mobilenet_KD{epoch+1}.pkl', 'wb') as file:\n",
    "            pickle.dump(mobilenet, file)\n",
    "train_model(mobilenet, teacher, criterion, optimizer, num_epochs = 20)"
   ]
  },
  {
   "cell_type": "code",
   "execution_count": 17,
   "id": "b7d0a463",
   "metadata": {
    "execution": {
     "iopub.execute_input": "2024-05-02T14:23:52.208742Z",
     "iopub.status.busy": "2024-05-02T14:23:52.207919Z",
     "iopub.status.idle": "2024-05-02T14:23:52.268219Z",
     "shell.execute_reply": "2024-05-02T14:23:52.266138Z"
    },
    "papermill": {
     "duration": 0.088524,
     "end_time": "2024-05-02T14:23:52.272027",
     "exception": false,
     "start_time": "2024-05-02T14:23:52.183503",
     "status": "completed"
    },
    "tags": []
   },
   "outputs": [],
   "source": [
    "with open('mobilenet_KD.pkl', 'wb') as file:\n",
    "    pickle.dump(mobilenet, file)"
   ]
  }
 ],
 "metadata": {
  "kaggle": {
   "accelerator": "none",
   "dataSources": [
    {
     "datasetId": 35388,
     "sourceId": 47853,
     "sourceType": "datasetVersion"
    },
    {
     "datasetId": 4922257,
     "sourceId": 8290020,
     "sourceType": "datasetVersion"
    }
   ],
   "dockerImageVersionId": 30699,
   "isGpuEnabled": false,
   "isInternetEnabled": true,
   "language": "python",
   "sourceType": "notebook"
  },
  "kernelspec": {
   "display_name": "Python 3",
   "language": "python",
   "name": "python3"
  },
  "language_info": {
   "codemirror_mode": {
    "name": "ipython",
    "version": 3
   },
   "file_extension": ".py",
   "mimetype": "text/x-python",
   "name": "python",
   "nbconvert_exporter": "python",
   "pygments_lexer": "ipython3",
   "version": "3.10.13"
  },
  "papermill": {
   "default_parameters": {},
   "duration": 8010.05643,
   "end_time": "2024-05-02T14:23:54.890576",
   "environment_variables": {},
   "exception": null,
   "input_path": "__notebook__.ipynb",
   "output_path": "__notebook__.ipynb",
   "parameters": {},
   "start_time": "2024-05-02T12:10:24.834146",
   "version": "2.5.0"
  }
 },
 "nbformat": 4,
 "nbformat_minor": 5
}
