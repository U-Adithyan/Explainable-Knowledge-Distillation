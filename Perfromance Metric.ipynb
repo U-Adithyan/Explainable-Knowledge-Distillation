{
 "cells": [
  {
   "cell_type": "code",
   "execution_count": 1,
   "id": "4a225555",
   "metadata": {
    "execution": {
     "iopub.execute_input": "2024-05-03T12:58:14.003544Z",
     "iopub.status.busy": "2024-05-03T12:58:14.002357Z",
     "iopub.status.idle": "2024-05-03T12:58:21.257522Z",
     "shell.execute_reply": "2024-05-03T12:58:21.256208Z"
    },
    "papermill": {
     "duration": 7.268339,
     "end_time": "2024-05-03T12:58:21.260810",
     "exception": false,
     "start_time": "2024-05-03T12:58:13.992471",
     "status": "completed"
    },
    "tags": []
   },
   "outputs": [],
   "source": [
    "import os\n",
    "import cv2\n",
    "import numpy as np\n",
    "import pickle\n",
    "from PIL import Image\n",
    "import matplotlib.pyplot as plt\n",
    "\n",
    "import torch\n",
    "import torch.nn as nn\n",
    "import torchvision.models as models\n",
    "from torchvision import transforms\n",
    "import torch.nn.functional as F\n",
    "\n",
    "import gc\n",
    "\n",
    "import warnings\n",
    "warnings.filterwarnings(\"ignore\")"
   ]
  },
  {
   "cell_type": "code",
   "execution_count": 2,
   "id": "580cd970",
   "metadata": {
    "execution": {
     "iopub.execute_input": "2024-05-03T12:58:21.278969Z",
     "iopub.status.busy": "2024-05-03T12:58:21.277947Z",
     "iopub.status.idle": "2024-05-03T12:58:21.285184Z",
     "shell.execute_reply": "2024-05-03T12:58:21.284157Z"
    },
    "papermill": {
     "duration": 0.018699,
     "end_time": "2024-05-03T12:58:21.287443",
     "exception": false,
     "start_time": "2024-05-03T12:58:21.268744",
     "status": "completed"
    },
    "tags": []
   },
   "outputs": [],
   "source": [
    "def normalize_image(image):\n",
    "    # Convert image to float type\n",
    "    image = image.astype(float)\n",
    "    # Scale pixel values to range [0, 1]\n",
    "    image_min = np.min(image)\n",
    "    image_max = np.max(image)\n",
    "    normalized_image = (image - image_min) / (image_max - image_min)\n",
    "    gc.collect()\n",
    "    return normalized_image"
   ]
  },
  {
   "cell_type": "code",
   "execution_count": 3,
   "id": "4f5c3710",
   "metadata": {
    "execution": {
     "iopub.execute_input": "2024-05-03T12:58:21.304444Z",
     "iopub.status.busy": "2024-05-03T12:58:21.304002Z",
     "iopub.status.idle": "2024-05-03T12:58:21.311149Z",
     "shell.execute_reply": "2024-05-03T12:58:21.309889Z"
    },
    "papermill": {
     "duration": 0.019055,
     "end_time": "2024-05-03T12:58:21.313849",
     "exception": false,
     "start_time": "2024-05-03T12:58:21.294794",
     "status": "completed"
    },
    "tags": []
   },
   "outputs": [],
   "source": [
    "def preprocess_image(image_path):\n",
    "    transform = transforms.Compose([\n",
    "        transforms.Resize((224, 224)),\n",
    "        transforms.ToTensor(),\n",
    "        transforms.Normalize(mean=[0.485, 0.456, 0.406], std=[0.229, 0.224, 0.225]),\n",
    "    ])\n",
    "    image = Image.open(image_path)\n",
    "    image = transform(image).unsqueeze(0)\n",
    "    gc.collect()\n",
    "    return image"
   ]
  },
  {
   "cell_type": "code",
   "execution_count": 4,
   "id": "28cfd3c0",
   "metadata": {
    "_cell_guid": "b1076dfc-b9ad-4769-8c92-a6c4dae69d19",
    "_uuid": "8f2839f25d086af736a60e9eeb907d3b93b6e0e5",
    "execution": {
     "iopub.execute_input": "2024-05-03T12:58:21.331618Z",
     "iopub.status.busy": "2024-05-03T12:58:21.331132Z",
     "iopub.status.idle": "2024-05-03T12:58:21.339881Z",
     "shell.execute_reply": "2024-05-03T12:58:21.338206Z"
    },
    "papermill": {
     "duration": 0.021661,
     "end_time": "2024-05-03T12:58:21.342979",
     "exception": false,
     "start_time": "2024-05-03T12:58:21.321318",
     "status": "completed"
    },
    "tags": []
   },
   "outputs": [],
   "source": [
    "def extract_foreground_background_masks(segmentation_map, threshold=10):\n",
    "    # Load the segmentation map\n",
    "    seg_map = cv2.imread(segmentation_map, cv2.IMREAD_GRAYSCALE)\n",
    "    seg_map = cv2.resize(seg_map, (224, 224))\n",
    "\n",
    "    # Thresholding to create foreground and background masks\n",
    "    _, foreground_mask = cv2.threshold(seg_map, threshold, 255, cv2.THRESH_BINARY)\n",
    "    background_mask = cv2.bitwise_not(foreground_mask)\n",
    "\n",
    "    # Convert masks to NumPy arrays\n",
    "    foreground_mask_np = np.asarray(foreground_mask)\n",
    "    background_mask_np = np.asarray(background_mask)\n",
    "    \n",
    "    gc.collect()\n",
    "\n",
    "    return normalize_image(foreground_mask_np), normalize_image(background_mask_np)"
   ]
  },
  {
   "cell_type": "code",
   "execution_count": 5,
   "id": "838e67a1",
   "metadata": {
    "execution": {
     "iopub.execute_input": "2024-05-03T12:58:21.360359Z",
     "iopub.status.busy": "2024-05-03T12:58:21.359869Z",
     "iopub.status.idle": "2024-05-03T12:58:21.367402Z",
     "shell.execute_reply": "2024-05-03T12:58:21.366101Z"
    },
    "papermill": {
     "duration": 0.019452,
     "end_time": "2024-05-03T12:58:21.370150",
     "exception": false,
     "start_time": "2024-05-03T12:58:21.350698",
     "status": "completed"
    },
    "tags": []
   },
   "outputs": [],
   "source": [
    "class ModifiedResnet(nn.Module):\n",
    "    def __init__(self, resnet):\n",
    "        super(ModifiedResnet, self).__init__()\n",
    "        self.resnet = resnet\n",
    "        self.softmax = nn.Softmax(dim=1)\n",
    "\n",
    "    def forward(self, x):\n",
    "        x = self.resnet(x)\n",
    "        x = self.softmax(x)\n",
    "        return x"
   ]
  },
  {
   "cell_type": "code",
   "execution_count": 6,
   "id": "953682c9",
   "metadata": {
    "execution": {
     "iopub.execute_input": "2024-05-03T12:58:21.387913Z",
     "iopub.status.busy": "2024-05-03T12:58:21.387457Z",
     "iopub.status.idle": "2024-05-03T12:58:21.401616Z",
     "shell.execute_reply": "2024-05-03T12:58:21.400060Z"
    },
    "papermill": {
     "duration": 0.026636,
     "end_time": "2024-05-03T12:58:21.404383",
     "exception": false,
     "start_time": "2024-05-03T12:58:21.377747",
     "status": "completed"
    },
    "tags": []
   },
   "outputs": [],
   "source": [
    "def get_gradcam_map_resnet(model, input_image, target_class=None):\n",
    "    # Set the model to evaluation mode\n",
    "    model.eval()\n",
    "    \n",
    "    # Forward pass\n",
    "    features = model.conv1(input_image)\n",
    "    features = model.bn1(features)\n",
    "    features = model.relu(features)\n",
    "    features = model.maxpool(features)\n",
    "\n",
    "    features = model.layer1(features)\n",
    "    features = model.layer2(features)\n",
    "    features = model.layer3(features)\n",
    "    features = model.layer4(features)\n",
    "\n",
    "    # Average pooling to reduce spatial dimensions to 1x1\n",
    "    pooled_features = nn.functional.adaptive_avg_pool2d(features, 1)\n",
    "    \n",
    "    # Compute the gradients of the target class score with respect to the pooled feature maps\n",
    "    gradients = None\n",
    "    for param in model.parameters():\n",
    "        param.requires_grad_(True)\n",
    "    output = model.fc(pooled_features.view(pooled_features.size(0), -1))\n",
    "    if target_class is None:\n",
    "        target_class = output.argmax(dim=1)\n",
    "    output[:, target_class].backward(retain_graph=True)\n",
    "    gradients = model.layer4[-1].conv2.weight.grad\n",
    "    alpha = gradients.mean(dim=(2, 3), keepdim=True)\n",
    "\n",
    "    # Compute the importance weights for each feature map\n",
    "    gradcam_map = (alpha * features).sum(dim=1, keepdim=True)\n",
    "    gradcam_map = nn.functional.relu(gradcam_map)\n",
    "    \n",
    "    # Resize the Grad-CAM map to match the input size\n",
    "    gradcam_map = nn.functional.interpolate(gradcam_map, size=(224, 224), mode='bilinear', align_corners=False)\n",
    "    \n",
    "    gc.collect()\n",
    "    \n",
    "    return np.mean(gradcam_map.squeeze().cpu().detach().numpy(), axis=0)"
   ]
  },
  {
   "cell_type": "code",
   "execution_count": 7,
   "id": "6e3efdb8",
   "metadata": {
    "execution": {
     "iopub.execute_input": "2024-05-03T12:58:21.421667Z",
     "iopub.status.busy": "2024-05-03T12:58:21.421210Z",
     "iopub.status.idle": "2024-05-03T12:58:21.428619Z",
     "shell.execute_reply": "2024-05-03T12:58:21.427272Z"
    },
    "papermill": {
     "duration": 0.019624,
     "end_time": "2024-05-03T12:58:21.431670",
     "exception": false,
     "start_time": "2024-05-03T12:58:21.412046",
     "status": "completed"
    },
    "tags": []
   },
   "outputs": [],
   "source": [
    "class ModifiedMobileNetV2(nn.Module):\n",
    "    def __init__(self, mobilenet):\n",
    "        super(ModifiedMobileNetV2, self).__init__()\n",
    "        self.mobilenet = mobilenet\n",
    "        self.softmax = nn.Softmax(dim=1)\n",
    "\n",
    "    def forward(self, x):\n",
    "        x = self.mobilenet(x)\n",
    "        x = self.softmax(x)\n",
    "        return x"
   ]
  },
  {
   "cell_type": "code",
   "execution_count": 8,
   "id": "57c9b7ef",
   "metadata": {
    "execution": {
     "iopub.execute_input": "2024-05-03T12:58:21.448971Z",
     "iopub.status.busy": "2024-05-03T12:58:21.448590Z",
     "iopub.status.idle": "2024-05-03T12:58:21.461114Z",
     "shell.execute_reply": "2024-05-03T12:58:21.460027Z"
    },
    "papermill": {
     "duration": 0.024191,
     "end_time": "2024-05-03T12:58:21.463678",
     "exception": false,
     "start_time": "2024-05-03T12:58:21.439487",
     "status": "completed"
    },
    "tags": []
   },
   "outputs": [],
   "source": [
    "def get_gradcam_map_mobilenet(model, input_image, target_class=None): \n",
    "    activation = {}\n",
    "    gradient = {}\n",
    "\n",
    "    def get_activation(name):\n",
    "        def hook(model, input, output):\n",
    "            activation[name] = output.detach()\n",
    "        return hook\n",
    "\n",
    "    def get_gradient(name):\n",
    "        def hook(module, grad_input, grad_output):\n",
    "            gradient[name] = grad_output[0].detach()\n",
    "        return hook\n",
    "\n",
    "    model.features[-1].register_forward_hook(get_activation('features'))\n",
    "    model.features[-1].register_backward_hook(get_gradient('features'))\n",
    "\n",
    "    model.eval()\n",
    "    output = model(input_image)\n",
    "    target_class = torch.argmax(output)\n",
    "\n",
    "    model.zero_grad()\n",
    "    output[:, target_class].backward(create_graph=True)\n",
    "    grads = gradient['features']\n",
    "    activations = activation['features']\n",
    "\n",
    "    for i in range(activations.shape[0]):\n",
    "        activations[i, :] *= grads[i, :]\n",
    "    grad_cam = torch.mean(activations, dim=1).unsqueeze(0)\n",
    "    \n",
    "    gc.collect()\n",
    "    \n",
    "    grad_cam = F.relu(grad_cam)\n",
    "    gradcam_map = nn.functional.interpolate(grad_cam, size=(224, 224), mode='bilinear', align_corners=False)\n",
    "    gradcam_map = gradcam_map.squeeze()\n",
    "    \n",
    "    gc.collect()\n",
    "    \n",
    "    return normalize_image(np.asarray(gradcam_map))"
   ]
  },
  {
   "cell_type": "code",
   "execution_count": 9,
   "id": "a3f38b7c",
   "metadata": {
    "execution": {
     "iopub.execute_input": "2024-05-03T12:58:21.480838Z",
     "iopub.status.busy": "2024-05-03T12:58:21.480337Z",
     "iopub.status.idle": "2024-05-03T12:58:21.489946Z",
     "shell.execute_reply": "2024-05-03T12:58:21.488667Z"
    },
    "papermill": {
     "duration": 0.021617,
     "end_time": "2024-05-03T12:58:21.492586",
     "exception": false,
     "start_time": "2024-05-03T12:58:21.470969",
     "status": "completed"
    },
    "tags": []
   },
   "outputs": [],
   "source": [
    "def get_metric_map(model, model_name, input_image, segmentation_path):\n",
    "    foreground_mask, background_mask = extract_foreground_background_masks(segmentation_path)\n",
    "    gc.collect()\n",
    "    \n",
    "    if model_name == \"resnet\":\n",
    "        model = model.eval()\n",
    "        gradcam_map = get_gradcam_map_resnet(model, input_image)\n",
    "    elif model_name == \"mobilenet\":\n",
    "        model = model.eval()\n",
    "        gradcam_map = get_gradcam_map_mobilenet(model, input_image)\n",
    "    else:\n",
    "        return\n",
    "    gc.collect()\n",
    "    \n",
    "    avg_background = np.mean(background_mask * gradcam_map)\n",
    "    percentile_value = np.percentile(background_mask * gradcam_map - avg_background, 60)\n",
    "\n",
    "    fg_image_map = (foreground_mask*gradcam_map- avg_background) > percentile_value\n",
    "    bg_image_map = ((background_mask*gradcam_map)- avg_background) > percentile_value\n",
    "    gc.collect()\n",
    "    \n",
    "    return fg_image_map, bg_image_map"
   ]
  },
  {
   "cell_type": "code",
   "execution_count": 10,
   "id": "8a513184",
   "metadata": {
    "execution": {
     "iopub.execute_input": "2024-05-03T12:58:21.509048Z",
     "iopub.status.busy": "2024-05-03T12:58:21.508624Z",
     "iopub.status.idle": "2024-05-03T12:58:21.515803Z",
     "shell.execute_reply": "2024-05-03T12:58:21.514397Z"
    },
    "papermill": {
     "duration": 0.018883,
     "end_time": "2024-05-03T12:58:21.518488",
     "exception": false,
     "start_time": "2024-05-03T12:58:21.499605",
     "status": "completed"
    },
    "tags": []
   },
   "outputs": [],
   "source": [
    "def get_metric(model, model_name, input_image, segmentation_path):\n",
    "    fg_map, bg_map = get_metric_map(model, model_name, input_image, segmentation_path)\n",
    "    fg = np.sum(fg_map)\n",
    "    bg = np.sum(bg_map)\n",
    "    gc.collect()\n",
    "    \n",
    "    return fg, bg"
   ]
  },
  {
   "cell_type": "code",
   "execution_count": 11,
   "id": "208a75dd",
   "metadata": {
    "execution": {
     "iopub.execute_input": "2024-05-03T12:58:21.535104Z",
     "iopub.status.busy": "2024-05-03T12:58:21.534621Z",
     "iopub.status.idle": "2024-05-03T12:58:21.541040Z",
     "shell.execute_reply": "2024-05-03T12:58:21.539582Z"
    },
    "papermill": {
     "duration": 0.018147,
     "end_time": "2024-05-03T12:58:21.543794",
     "exception": false,
     "start_time": "2024-05-03T12:58:21.525647",
     "status": "completed"
    },
    "tags": []
   },
   "outputs": [],
   "source": [
    "MODEL_DIR = '/kaggle/input/deeplearning-data'\n",
    "IMAGE_DIR = '/kaggle/input/pascal-voc-2012/VOC2012/JPEGImages'\n",
    "SEGMENT_DIR = '/kaggle/input/pascal-voc-2012/VOC2012/SegmentationObject'"
   ]
  },
  {
   "cell_type": "code",
   "execution_count": 12,
   "id": "dda6fd21",
   "metadata": {
    "execution": {
     "iopub.execute_input": "2024-05-03T12:58:21.561345Z",
     "iopub.status.busy": "2024-05-03T12:58:21.559882Z",
     "iopub.status.idle": "2024-05-03T12:58:21.900076Z",
     "shell.execute_reply": "2024-05-03T12:58:21.898517Z"
    },
    "papermill": {
     "duration": 0.351964,
     "end_time": "2024-05-03T12:58:21.902969",
     "exception": false,
     "start_time": "2024-05-03T12:58:21.551005",
     "status": "completed"
    },
    "tags": []
   },
   "outputs": [],
   "source": [
    "test_list = []\n",
    "for file in os.listdir(SEGMENT_DIR):\n",
    "    if file.startswith(\"2007\"):\n",
    "        test_list.append(file.split('.')[0])\n",
    "    if len(test_list) == 5:\n",
    "        break"
   ]
  },
  {
   "cell_type": "code",
   "execution_count": 13,
   "id": "86e3fc47",
   "metadata": {
    "execution": {
     "iopub.execute_input": "2024-05-03T12:58:21.919371Z",
     "iopub.status.busy": "2024-05-03T12:58:21.918921Z",
     "iopub.status.idle": "2024-05-03T12:58:21.928033Z",
     "shell.execute_reply": "2024-05-03T12:58:21.925947Z"
    },
    "papermill": {
     "duration": 0.020292,
     "end_time": "2024-05-03T12:58:21.930659",
     "exception": false,
     "start_time": "2024-05-03T12:58:21.910367",
     "status": "completed"
    },
    "tags": []
   },
   "outputs": [],
   "source": [
    "def get_resnet_performance(test_list):\n",
    "    model = pickle.load(open(os.path.join(MODEL_DIR, 'teacher.pkl'),'rb'))\n",
    "    model = model.resnet\n",
    "    metric = 0 \n",
    "    for data in test_list:\n",
    "        image = preprocess_image(os.path.join(IMAGE_DIR,f'{data}.jpg'))\n",
    "        segmentation_path = os.path.join(SEGMENT_DIR,f'{data}.png')\n",
    "        fg,bg = get_metric(model, 'resnet', image, segmentation_path)\n",
    "        metric += fg/(fg+bg)\n",
    "        gc.collect()\n",
    "    return metric/len(test_list)"
   ]
  },
  {
   "cell_type": "code",
   "execution_count": 14,
   "id": "7ddf344e",
   "metadata": {
    "execution": {
     "iopub.execute_input": "2024-05-03T12:58:21.947757Z",
     "iopub.status.busy": "2024-05-03T12:58:21.947372Z",
     "iopub.status.idle": "2024-05-03T12:58:21.956396Z",
     "shell.execute_reply": "2024-05-03T12:58:21.955064Z"
    },
    "papermill": {
     "duration": 0.020093,
     "end_time": "2024-05-03T12:58:21.958978",
     "exception": false,
     "start_time": "2024-05-03T12:58:21.938885",
     "status": "completed"
    },
    "tags": []
   },
   "outputs": [],
   "source": [
    "def get_mobilenet_performance(test_list, folder_name, model_name):\n",
    "    performance = []\n",
    "    for i in range(1,16):\n",
    "        model = pickle.load(open(os.path.join(MODEL_DIR, f'{folder_name}/{model_name}{i}.pkl'),'rb'))\n",
    "        model = model.mobilenet\n",
    "        metric = 0\n",
    "        for data in test_list:\n",
    "            image = preprocess_image(os.path.join(IMAGE_DIR,f'{data}.jpg'))\n",
    "            segmentation_path = os.path.join(SEGMENT_DIR,f'{data}.png')\n",
    "            fg,bg = get_metric(model, 'mobilenet', image, segmentation_path)\n",
    "            metric += fg/(fg+bg)\n",
    "            gc.collect()\n",
    "        performance.append(metric/len(test_list))\n",
    "    return performance"
   ]
  },
  {
   "cell_type": "code",
   "execution_count": 15,
   "id": "7d4a13cb",
   "metadata": {
    "execution": {
     "iopub.execute_input": "2024-05-03T12:58:21.974673Z",
     "iopub.status.busy": "2024-05-03T12:58:21.974293Z",
     "iopub.status.idle": "2024-05-03T12:58:33.551982Z",
     "shell.execute_reply": "2024-05-03T12:58:33.550718Z"
    },
    "papermill": {
     "duration": 11.58936,
     "end_time": "2024-05-03T12:58:33.555271",
     "exception": false,
     "start_time": "2024-05-03T12:58:21.965911",
     "status": "completed"
    },
    "tags": []
   },
   "outputs": [],
   "source": [
    "teacher_performance = get_resnet_performance(test_list)"
   ]
  },
  {
   "cell_type": "code",
   "execution_count": 16,
   "id": "f1233de0",
   "metadata": {
    "execution": {
     "iopub.execute_input": "2024-05-03T12:58:33.573545Z",
     "iopub.status.busy": "2024-05-03T12:58:33.573135Z",
     "iopub.status.idle": "2024-05-03T13:01:32.729322Z",
     "shell.execute_reply": "2024-05-03T13:01:32.728092Z"
    },
    "papermill": {
     "duration": 179.169577,
     "end_time": "2024-05-03T13:01:32.732490",
     "exception": false,
     "start_time": "2024-05-03T12:58:33.562913",
     "status": "completed"
    },
    "tags": []
   },
   "outputs": [],
   "source": [
    "student_performance = get_mobilenet_performance(test_list, 'student', 'mobilenet_vanilla')"
   ]
  },
  {
   "cell_type": "code",
   "execution_count": 17,
   "id": "1780c0dc",
   "metadata": {
    "execution": {
     "iopub.execute_input": "2024-05-03T13:01:32.749397Z",
     "iopub.status.busy": "2024-05-03T13:01:32.748932Z",
     "iopub.status.idle": "2024-05-03T13:04:43.872072Z",
     "shell.execute_reply": "2024-05-03T13:04:43.870678Z"
    },
    "papermill": {
     "duration": 191.135678,
     "end_time": "2024-05-03T13:04:43.875494",
     "exception": false,
     "start_time": "2024-05-03T13:01:32.739816",
     "status": "completed"
    },
    "tags": []
   },
   "outputs": [],
   "source": [
    "KD_performance = get_mobilenet_performance(test_list, 'KD', 'mobilenet_KD')"
   ]
  },
  {
   "cell_type": "code",
   "execution_count": 18,
   "id": "53de4777",
   "metadata": {
    "execution": {
     "iopub.execute_input": "2024-05-03T13:04:43.894303Z",
     "iopub.status.busy": "2024-05-03T13:04:43.893767Z",
     "iopub.status.idle": "2024-05-03T13:08:04.986989Z",
     "shell.execute_reply": "2024-05-03T13:08:04.985803Z"
    },
    "papermill": {
     "duration": 201.106242,
     "end_time": "2024-05-03T13:08:04.990238",
     "exception": false,
     "start_time": "2024-05-03T13:04:43.883996",
     "status": "completed"
    },
    "tags": []
   },
   "outputs": [],
   "source": [
    "EKD_performance = get_mobilenet_performance(test_list, 'EKD', 'mobilenet_EKD')"
   ]
  },
  {
   "cell_type": "code",
   "execution_count": 19,
   "id": "ae42f9bb",
   "metadata": {
    "execution": {
     "iopub.execute_input": "2024-05-03T13:08:05.008991Z",
     "iopub.status.busy": "2024-05-03T13:08:05.007903Z",
     "iopub.status.idle": "2024-05-03T13:08:05.396690Z",
     "shell.execute_reply": "2024-05-03T13:08:05.395157Z"
    },
    "papermill": {
     "duration": 0.402227,
     "end_time": "2024-05-03T13:08:05.400248",
     "exception": false,
     "start_time": "2024-05-03T13:08:04.998021",
     "status": "completed"
    },
    "tags": []
   },
   "outputs": [
    {
     "data": {
      "image/png": "[encoded data removed]",
      "text/plain": [
       "<Figure size 640x480 with 1 Axes>"
      ]
     },
     "metadata": {},
     "output_type": "display_data"
    }
   ],
   "source": [
    "plt.plot(range(15), [teacher_performance for _ in range(15)], label='Teacher Baseline')\n",
    "plt.plot(range(15), student_performance, label='Vanilla')\n",
    "plt.plot(range(15), KD_performance, label='KD')\n",
    "plt.plot(range(15), EKD_performance, label='EKD')\n",
    "\n",
    "plt.xlabel('Epoch')\n",
    "plt.ylabel('Metric')\n",
    "plt.legend()\n",
    "plt.show()"
   ]
  }
 ],
 "metadata": {
  "kaggle": {
   "accelerator": "none",
   "dataSources": [
    {
     "datasetId": 35388,
     "sourceId": 47853,
     "sourceType": "datasetVersion"
    },
    {
     "datasetId": 4922257,
     "sourceId": 8299518,
     "sourceType": "datasetVersion"
    }
   ],
   "dockerImageVersionId": 30698,
   "isGpuEnabled": false,
   "isInternetEnabled": true,
   "language": "python",
   "sourceType": "notebook"
  },
  "kernelspec": {
   "display_name": "Python 3",
   "language": "python",
   "name": "python3"
  },
  "language_info": {
   "codemirror_mode": {
    "name": "ipython",
    "version": 3
   },
   "file_extension": ".py",
   "mimetype": "text/x-python",
   "name": "python",
   "nbconvert_exporter": "python",
   "pygments_lexer": "ipython3",
   "version": "3.10.13"
  },
  "papermill": {
   "default_parameters": {},
   "duration": 597.520389,
   "end_time": "2024-05-03T13:08:08.370054",
   "environment_variables": {},
   "exception": null,
   "input_path": "__notebook__.ipynb",
   "output_path": "__notebook__.ipynb",
   "parameters": {},
   "start_time": "2024-05-03T12:58:10.849665",
   "version": "2.5.0"
  }
 },
 "nbformat": 4,
 "nbformat_minor": 5
}
